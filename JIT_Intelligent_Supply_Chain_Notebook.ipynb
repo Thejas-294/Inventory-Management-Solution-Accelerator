{
 "cells": [
  {
   "cell_type": "code",
   "execution_count": 0,
   "metadata": {
    "application/vnd.databricks.v1+cell": {
     "cellMetadata": {
      "byteLimit": 2048000,
      "rowLimit": 10000
     },
     "inputWidgets": {},
     "nuid": "a44a95ed-694a-4cc0-9d98-cffbaa38bc5f",
     "showTitle": false,
     "title": ""
    }
   },
   "outputs": [
    {
     "output_type": "display_data",
     "data": {
      "text/html": [
       "<style scoped>\n",
       "  .ansiout {\n",
       "    display: block;\n",
       "    unicode-bidi: embed;\n",
       "    white-space: pre-wrap;\n",
       "    word-wrap: break-word;\n",
       "    word-break: break-all;\n",
       "    font-family: \"Source Code Pro\", \"Menlo\", monospace;;\n",
       "    font-size: 13px;\n",
       "    color: #555;\n",
       "    margin-left: 4px;\n",
       "    line-height: 19px;\n",
       "  }\n",
       "</style>\n",
       "<div class=\"ansiout\"></div>"
      ]
     },
     "metadata": {
      "application/vnd.databricks.v1+output": {
       "addedWidgets": {},
       "arguments": {},
       "data": "<div class=\"ansiout\"></div>",
       "datasetInfos": [],
       "metadata": {},
       "removedWidgets": [],
       "type": "html"
      }
     },
     "output_type": "display_data"
    }
   ],
   "source": [
    "import pyspark.sql.functions as F\n",
    "import pyspark.sql.types as T\n",
    "from pyspark.sql.functions import *\n",
    "from pyspark.sql.types import *\n",
    "from pyspark.sql.window import *\n",
    "import numpy as np\n",
    "from scipy.stats import norm\n",
    "import sys"
   ]
  },
  {
   "cell_type": "code",
   "execution_count": 0,
   "metadata": {
    "application/vnd.databricks.v1+cell": {
     "cellMetadata": {
      "byteLimit": 2048000,
      "rowLimit": 10000
     },
     "inputWidgets": {},
     "nuid": "e1f508c0-c359-4a6c-86eb-14a590fc4965",
     "showTitle": false,
     "title": ""
    }
   },
   "outputs": [
    {
     "output_type": "display_data",
     "data": {
      "text/html": [
       "<style scoped>\n",
       "  .ansiout {\n",
       "    display: block;\n",
       "    unicode-bidi: embed;\n",
       "    white-space: pre-wrap;\n",
       "    word-wrap: break-word;\n",
       "    word-break: break-all;\n",
       "    font-family: \"Source Code Pro\", \"Menlo\", monospace;;\n",
       "    font-size: 13px;\n",
       "    color: #555;\n",
       "    margin-left: 4px;\n",
       "    line-height: 19px;\n",
       "  }\n",
       "</style>\n",
       "<div class=\"ansiout\"></div>"
      ]
     },
     "metadata": {
      "application/vnd.databricks.v1+output": {
       "addedWidgets": {},
       "arguments": {},
       "data": "<div class=\"ansiout\"></div>",
       "datasetInfos": [],
       "metadata": {},
       "removedWidgets": [],
       "type": "html"
      }
     },
     "output_type": "display_data"
    }
   ],
   "source": [
    "CURRENT_D            = current_date()\n",
    "CURRENT_DT           = current_timestamp()"
   ]
  },
  {
   "cell_type": "code",
   "execution_count": 0,
   "metadata": {
    "application/vnd.databricks.v1+cell": {
     "cellMetadata": {
      "byteLimit": 2048000,
      "rowLimit": 10000
     },
     "inputWidgets": {},
     "nuid": "c7591420-1ca0-4d5b-be17-cef70e41af79",
     "showTitle": false,
     "title": ""
    }
   },
   "outputs": [
    {
     "output_type": "display_data",
     "data": {
      "text/html": [
       "<style scoped>\n",
       "  .ansiout {\n",
       "    display: block;\n",
       "    unicode-bidi: embed;\n",
       "    white-space: pre-wrap;\n",
       "    word-wrap: break-word;\n",
       "    word-break: break-all;\n",
       "    font-family: \"Source Code Pro\", \"Menlo\", monospace;;\n",
       "    font-size: 13px;\n",
       "    color: #555;\n",
       "    margin-left: 4px;\n",
       "    line-height: 19px;\n",
       "  }\n",
       "</style>\n",
       "<div class=\"ansiout\"></div>"
      ]
     },
     "metadata": {
      "application/vnd.databricks.v1+output": {
       "addedWidgets": {},
       "arguments": {},
       "data": "<div class=\"ansiout\"></div>",
       "datasetInfos": [],
       "metadata": {},
       "removedWidgets": [],
       "type": "html"
      }
     },
     "output_type": "display_data"
    }
   ],
   "source": [
    "SERVICE_LEVEL = 0.90\n",
    "z = np.round(norm.ppf(SERVICE_LEVEL), 2)\n",
    " "
   ]
  },
  {
   "cell_type": "code",
   "execution_count": 0,
   "metadata": {
    "application/vnd.databricks.v1+cell": {
     "cellMetadata": {
      "byteLimit": 2048000,
      "rowLimit": 10000
     },
     "inputWidgets": {},
     "nuid": "ed11e635-a2e8-409d-a657-a6e56174ba6b",
     "showTitle": false,
     "title": ""
    }
   },
   "outputs": [
    {
     "output_type": "display_data",
     "data": {
      "text/html": [
       "<style scoped>\n",
       "  .ansiout {\n",
       "    display: block;\n",
       "    unicode-bidi: embed;\n",
       "    white-space: pre-wrap;\n",
       "    word-wrap: break-word;\n",
       "    word-break: break-all;\n",
       "    font-family: \"Source Code Pro\", \"Menlo\", monospace;;\n",
       "    font-size: 13px;\n",
       "    color: #555;\n",
       "    margin-left: 4px;\n",
       "    line-height: 19px;\n",
       "  }\n",
       "</style>\n",
       "<div class=\"ansiout\"></div>"
      ]
     },
     "metadata": {
      "application/vnd.databricks.v1+output": {
       "addedWidgets": {},
       "arguments": {},
       "data": "<div class=\"ansiout\"></div>",
       "datasetInfos": [
        {
         "name": "MATERIAL_LIST",
         "schema": {
          "fields": [
           {
            "metadata": {},
            "name": "MATNR",
            "nullable": true,
            "type": "string"
           },
           {
            "metadata": {},
            "name": "LGORT",
            "nullable": true,
            "type": "string"
           },
           {
            "metadata": {},
            "name": "AREA",
            "nullable": true,
            "type": "string"
           }
          ],
          "type": "struct"
         },
         "tableIdentifier": null,
         "typeStr": "pyspark.sql.dataframe.DataFrame"
        },
        {
         "name": "PLANT_LIST",
         "schema": {
          "fields": [
           {
            "metadata": {},
            "name": "PLANT",
            "nullable": true,
            "type": "string"
           },
           {
            "metadata": {},
            "name": "LGORT",
            "nullable": true,
            "type": "string"
           },
           {
            "metadata": {},
            "name": "AREA",
            "nullable": true,
            "type": "string"
           }
          ],
          "type": "struct"
         },
         "tableIdentifier": null,
         "typeStr": "pyspark.sql.dataframe.DataFrame"
        },
        {
         "name": "PLANTS_TABLE",
         "schema": {
          "fields": [
           {
            "metadata": {},
            "name": "PLANT",
            "nullable": true,
            "type": "string"
           }
          ],
          "type": "struct"
         },
         "tableIdentifier": null,
         "typeStr": "pyspark.sql.dataframe.DataFrame"
        }
       ],
       "metadata": {},
       "removedWidgets": [],
       "type": "html"
      }
     },
     "output_type": "display_data"
    }
   ],
   "source": [
    "MATERIAL_LIST = spark.read.table('default.sample_material_list').select('MATNR','LGORT','AREA')\n",
    "\n",
    "PLANT_LIST = spark.read.table('default.plant_list').select('PLANT','LGORT','AREA')\n",
    "PLANTS_TABLE         =   PLANT_LIST.select(\"PLANT\").distinct()\n",
    "# display(PLANTS_TABLE)"
   ]
  },
  {
   "cell_type": "code",
   "execution_count": 0,
   "metadata": {
    "application/vnd.databricks.v1+cell": {
     "cellMetadata": {
      "byteLimit": 2048000,
      "rowLimit": 10000
     },
     "inputWidgets": {},
     "nuid": "2f81f6d9-14a6-41fc-8d1d-edbc57418401",
     "showTitle": false,
     "title": ""
    }
   },
   "outputs": [
    {
     "output_type": "display_data",
     "data": {
      "text/html": [
       "<style scoped>\n",
       "  .ansiout {\n",
       "    display: block;\n",
       "    unicode-bidi: embed;\n",
       "    white-space: pre-wrap;\n",
       "    word-wrap: break-word;\n",
       "    word-break: break-all;\n",
       "    font-family: \"Source Code Pro\", \"Menlo\", monospace;;\n",
       "    font-size: 13px;\n",
       "    color: #555;\n",
       "    margin-left: 4px;\n",
       "    line-height: 19px;\n",
       "  }\n",
       "</style>\n",
       "<div class=\"ansiout\"></div>"
      ]
     },
     "metadata": {
      "application/vnd.databricks.v1+output": {
       "addedWidgets": {},
       "arguments": {},
       "data": "<div class=\"ansiout\"></div>",
       "datasetInfos": [
        {
         "name": "LEADTIME",
         "schema": {
          "fields": [
           {
            "metadata": {},
            "name": "RECEIPT_DATE",
            "nullable": true,
            "type": "string"
           },
           {
            "metadata": {},
            "name": "PO",
            "nullable": true,
            "type": "string"
           },
           {
            "metadata": {},
            "name": "PO_LINE",
            "nullable": true,
            "type": "string"
           },
           {
            "metadata": {},
            "name": "RECEIPT_QTY",
            "nullable": true,
            "type": "integer"
           },
           {
            "metadata": {},
            "name": "PLANT",
            "nullable": true,
            "type": "string"
           },
           {
            "metadata": {},
            "name": "MATERIAL",
            "nullable": true,
            "type": "string"
           },
           {
            "metadata": {},
            "name": "PO_DATE",
            "nullable": true,
            "type": "string"
           },
           {
            "metadata": {},
            "name": "PO_RAS",
            "nullable": true,
            "type": "string"
           },
           {
            "metadata": {},
            "name": "REQID",
            "nullable": true,
            "type": "string"
           },
           {
            "metadata": {},
            "name": "REQ_LINE",
            "nullable": true,
            "type": "string"
           },
           {
            "metadata": {},
            "name": "REQ_DATE",
            "nullable": true,
            "type": "string"
           },
           {
            "metadata": {},
            "name": "REQ_TYPE",
            "nullable": true,
            "type": "string"
           },
           {
            "metadata": {},
            "name": "DAYS",
            "nullable": true,
            "type": "integer"
           },
           {
            "metadata": {},
            "name": "LAST_POA_DATE",
            "nullable": true,
            "type": "string"
           },
           {
            "metadata": {},
            "name": "MATNR",
            "nullable": true,
            "type": "string"
           }
          ],
          "type": "struct"
         },
         "tableIdentifier": null,
         "typeStr": "pyspark.sql.dataframe.DataFrame"
        },
        {
         "name": "INVENTORY",
         "schema": {
          "fields": [
           {
            "metadata": {},
            "name": "MATERIAL",
            "nullable": true,
            "type": "string"
           },
           {
            "metadata": {},
            "name": "MATNR",
            "nullable": true,
            "type": "string"
           },
           {
            "metadata": {},
            "name": "QUANTITY",
            "nullable": true,
            "type": "integer"
           },
           {
            "metadata": {},
            "name": "PLANT",
            "nullable": true,
            "type": "string"
           },
           {
            "metadata": {},
            "name": "LGORT",
            "nullable": true,
            "type": "string"
           },
           {
            "metadata": {},
            "name": "INVENTORY_TYPE",
            "nullable": true,
            "type": "string"
           },
           {
            "metadata": {},
            "name": "TOTAL_VALUATION",
            "nullable": true,
            "type": "double"
           }
          ],
          "type": "struct"
         },
         "tableIdentifier": null,
         "typeStr": "pyspark.sql.dataframe.DataFrame"
        },
        {
         "name": "OPEN_REPLEN",
         "schema": {
          "fields": [
           {
            "metadata": {},
            "name": "PO",
            "nullable": true,
            "type": "string"
           },
           {
            "metadata": {},
            "name": "POLINE",
            "nullable": true,
            "type": "string"
           },
           {
            "metadata": {},
            "name": "TYPE",
            "nullable": true,
            "type": "string"
           },
           {
            "metadata": {},
            "name": "MATERIAL",
            "nullable": true,
            "type": "string"
           },
           {
            "metadata": {},
            "name": "PLANT",
            "nullable": true,
            "type": "string"
           },
           {
            "metadata": {},
            "name": "LGORT",
            "nullable": true,
            "type": "string"
           },
           {
            "metadata": {},
            "name": "AREA",
            "nullable": true,
            "type": "string"
           },
           {
            "metadata": {},
            "name": "MATNR",
            "nullable": true,
            "type": "string"
           },
           {
            "metadata": {},
            "name": "POCREATE",
            "nullable": true,
            "type": "string"
           },
           {
            "metadata": {},
            "name": "POA",
            "nullable": true,
            "type": "string"
           },
           {
            "metadata": {},
            "name": "PO_QTY",
            "nullable": true,
            "type": "integer"
           },
           {
            "metadata": {},
            "name": "RECEIPT_QTY",
            "nullable": true,
            "type": "integer"
           },
           {
            "metadata": {},
            "name": "OPEN_QTY",
            "nullable": true,
            "type": "integer"
           },
           {
            "metadata": {},
            "name": "PO_RAS",
            "nullable": true,
            "type": "string"
           },
           {
            "metadata": {},
            "name": "LINE_VALUE",
            "nullable": true,
            "type": "double"
           },
           {
            "metadata": {},
            "name": "OPEN_VALUE",
            "nullable": true,
            "type": "integer"
           }
          ],
          "type": "struct"
         },
         "tableIdentifier": null,
         "typeStr": "pyspark.sql.dataframe.DataFrame"
        },
        {
         "name": "BO_Details",
         "schema": {
          "fields": [
           {
            "metadata": {},
            "name": "PR_NUMBER",
            "nullable": true,
            "type": "string"
           },
           {
            "metadata": {},
            "name": "PR_LINE",
            "nullable": true,
            "type": "string"
           },
           {
            "metadata": {},
            "name": "PR_DATE",
            "nullable": true,
            "type": "string"
           },
           {
            "metadata": {},
            "name": "QTY",
            "nullable": true,
            "type": "integer"
           },
           {
            "metadata": {},
            "name": "MATNR",
            "nullable": true,
            "type": "string"
           },
           {
            "metadata": {},
            "name": "PLANT",
            "nullable": true,
            "type": "string"
           },
           {
            "metadata": {},
            "name": "AREA",
            "nullable": true,
            "type": "string"
           },
           {
            "metadata": {},
            "name": "ZZ_PROCESSED",
            "nullable": true,
            "type": "string"
           }
          ],
          "type": "struct"
         },
         "tableIdentifier": null,
         "typeStr": "pyspark.sql.dataframe.DataFrame"
        },
        {
         "name": "MATERIAL_MASTER",
         "schema": {
          "fields": [
           {
            "metadata": {},
            "name": "MATNR",
            "nullable": true,
            "type": "string"
           },
           {
            "metadata": {},
            "name": "MANUF",
            "nullable": true,
            "type": "string"
           },
           {
            "metadata": {},
            "name": "MANUF_NAME",
            "nullable": true,
            "type": "string"
           },
           {
            "metadata": {},
            "name": "HECI",
            "nullable": true,
            "type": "string"
           },
           {
            "metadata": {},
            "name": "MPN",
            "nullable": true,
            "type": "string"
           },
           {
            "metadata": {},
            "name": "MATGRP",
            "nullable": true,
            "type": "string"
           },
           {
            "metadata": {},
            "name": "MATGRP_NAME",
            "nullable": true,
            "type": "string"
           },
           {
            "metadata": {},
            "name": "CREATION_DATE",
            "nullable": true,
            "type": "date"
           },
           {
            "metadata": {},
            "name": "MAT_TYPE",
            "nullable": true,
            "type": "string"
           },
           {
            "metadata": {},
            "name": "CREATED_BY",
            "nullable": true,
            "type": "string"
           },
           {
            "metadata": {},
            "name": "CURRENT_PRICE",
            "nullable": true,
            "type": "decimal(18,2)"
           },
           {
            "metadata": {},
            "name": "DESCRIPTION",
            "nullable": true,
            "type": "string"
           },
           {
            "metadata": {},
            "name": "PLATFORM",
            "nullable": true,
            "type": "string"
           },
           {
            "metadata": {},
            "name": "ORGANIZATION",
            "nullable": true,
            "type": "string"
           },
           {
            "metadata": {},
            "name": "INV_ONLY_FLAG",
            "nullable": true,
            "type": "string"
           },
           {
            "metadata": {},
            "name": "BLOCKED_IND",
            "nullable": true,
            "type": "string"
           },
           {
            "metadata": {},
            "name": "DELETION_IND",
            "nullable": true,
            "type": "string"
           },
           {
            "metadata": {},
            "name": "STK_TYPE",
            "nullable": true,
            "type": "string"
           },
           {
            "metadata": {},
            "name": "LEASE",
            "nullable": true,
            "type": "string"
           },
           {
            "metadata": {},
            "name": "CTL_STOCKOUT_FLAG",
            "nullable": true,
            "type": "string"
           },
           {
            "metadata": {},
            "name": "LVLT_STOCKOUT_FLAG",
            "nullable": true,
            "type": "string"
           },
           {
            "metadata": {},
            "name": "LCAM_IND",
            "nullable": true,
            "type": "string"
           }
          ],
          "type": "struct"
         },
         "tableIdentifier": "dbfs:/user/hive/warehouse/material_master",
         "typeStr": "pyspark.sql.dataframe.DataFrame"
        }
       ],
       "metadata": {},
       "removedWidgets": [],
       "type": "html"
      }
     },
     "output_type": "display_data"
    }
   ],
   "source": [
    "LEADTIME = spark.read.table(\"default.leadtime\").withColumn(\"MATNR\", F.substring(\"MATERIAL\", -7, 7))\n",
    "\n",
    "INVENTORY = spark.read.table('default.inventory').withColumnRenamed(\"NEW_MATC\",\"MATNR\")\\\n",
    "  .withColumnRenamed('STORAGE_BIN',\"LGORT\").drop_duplicates()\n",
    "\n",
    "OPEN_REPLEN = spark.read.table('default.open_po').withColumnRenamed(\"NEWMATERIAL\",\"MATNR\")\\\n",
    "  .withColumnRenamed('STORAGE',\"LGORT\").drop_duplicates()\n",
    "\n",
    "BO_Details = spark.read.table('default.backorder').withColumnRenamed('MATCODE','MATNR')\n",
    "\n",
    "MATERIAL_MASTER = spark.read.table('default.material_master')\n"
   ]
  },
  {
   "cell_type": "code",
   "execution_count": 0,
   "metadata": {
    "application/vnd.databricks.v1+cell": {
     "cellMetadata": {
      "byteLimit": 2048000,
      "rowLimit": 10000
     },
     "inputWidgets": {},
     "nuid": "0438655b-1673-47e2-b10a-0acf9bbb5e63",
     "showTitle": false,
     "title": ""
    }
   },
   "outputs": [
    {
     "output_type": "display_data",
     "data": {
      "text/html": [
       "<style scoped>\n",
       "  .table-result-container {\n",
       "    max-height: 300px;\n",
       "    overflow: auto;\n",
       "  }\n",
       "  table, th, td {\n",
       "    border: 1px solid black;\n",
       "    border-collapse: collapse;\n",
       "  }\n",
       "  th, td {\n",
       "    padding: 5px;\n",
       "  }\n",
       "  th {\n",
       "    text-align: left;\n",
       "  }\n",
       "</style><div class='table-result-container'><table class='table-result'><thead style='background-color: white'><tr><th>MATNR</th><th>AREA</th><th>LGORT</th><th>STDDEV_DEMAND</th><th>demand_per_day</th></tr></thead><tbody><tr><td>1223406</td><td>NPI</td><td>1000</td><td>2.12</td><td>1.2</td></tr><tr><td>1415244</td><td>NPI</td><td>1000</td><td>3.73</td><td>2.88</td></tr><tr><td>1166284</td><td>NPI</td><td>1000</td><td>16.88</td><td>9.28</td></tr><tr><td>1415319</td><td>NPI</td><td>1000</td><td>11.03</td><td>8.51</td></tr><tr><td>1269875</td><td>NPI</td><td>1000</td><td>2.73</td><td>1.86</td></tr><tr><td>1269877</td><td>NPI</td><td>1000</td><td>3.24</td><td>2.49</td></tr><tr><td>1426657</td><td>NPI</td><td>1000</td><td>6.49</td><td>6.02</td></tr><tr><td>1415603</td><td>NPI</td><td>1000</td><td>10.77</td><td>10.16</td></tr><tr><td>1426745</td><td>NPI</td><td>1000</td><td>10.54</td><td>10.16</td></tr><tr><td>1269878</td><td>NPI</td><td>1000</td><td>3.4</td><td>2.55</td></tr></tbody></table></div>"
      ]
     },
     "metadata": {
      "application/vnd.databricks.v1+output": {
       "addedWidgets": {},
       "aggData": [],
       "aggError": "",
       "aggOverflow": false,
       "aggSchema": [],
       "aggSeriesLimitReached": false,
       "aggType": "",
       "arguments": {},
       "columnCustomDisplayInfos": {},
       "data": [
        [
         "1223406",
         "NPI",
         "1000",
         2.12,
         1.2
        ],
        [
         "1415244",
         "NPI",
         "1000",
         3.73,
         2.88
        ],
        [
         "1166284",
         "NPI",
         "1000",
         16.88,
         9.28
        ],
        [
         "1415319",
         "NPI",
         "1000",
         11.03,
         8.51
        ],
        [
         "1269875",
         "NPI",
         "1000",
         2.73,
         1.86
        ],
        [
         "1269877",
         "NPI",
         "1000",
         3.24,
         2.49
        ],
        [
         "1426657",
         "NPI",
         "1000",
         6.49,
         6.02
        ],
        [
         "1415603",
         "NPI",
         "1000",
         10.77,
         10.16
        ],
        [
         "1426745",
         "NPI",
         "1000",
         10.54,
         10.16
        ],
        [
         "1269878",
         "NPI",
         "1000",
         3.4,
         2.55
        ]
       ],
       "datasetInfos": [
        {
         "name": "matnr_cons",
         "schema": {
          "fields": [
           {
            "metadata": {},
            "name": "MATNR",
            "nullable": true,
            "type": "string"
           },
           {
            "metadata": {},
            "name": "AREA",
            "nullable": true,
            "type": "string"
           },
           {
            "metadata": {},
            "name": "LGORT",
            "nullable": true,
            "type": "string"
           },
           {
            "metadata": {},
            "name": "ds",
            "nullable": true,
            "type": "timestamp"
           },
           {
            "metadata": {},
            "name": "y",
            "nullable": true,
            "type": "long"
           }
          ],
          "type": "struct"
         },
         "tableIdentifier": "dbfs:/user/hive/warehouse/matnr_cons_df",
         "typeStr": "pyspark.sql.dataframe.DataFrame"
        },
        {
         "name": "demand_stats",
         "schema": {
          "fields": [
           {
            "metadata": {},
            "name": "MATNR",
            "nullable": true,
            "type": "string"
           },
           {
            "metadata": {},
            "name": "AREA",
            "nullable": true,
            "type": "string"
           },
           {
            "metadata": {},
            "name": "LGORT",
            "nullable": true,
            "type": "string"
           },
           {
            "metadata": {},
            "name": "STDDEV_DEMAND",
            "nullable": true,
            "type": "double"
           },
           {
            "metadata": {},
            "name": "demand_per_day",
            "nullable": true,
            "type": "double"
           }
          ],
          "type": "struct"
         },
         "tableIdentifier": null,
         "typeStr": "pyspark.sql.dataframe.DataFrame"
        }
       ],
       "dbfsResultPath": null,
       "isJsonSchema": true,
       "metadata": {},
       "overflow": false,
       "plotOptions": {
        "customPlotOptions": {},
        "displayType": "table",
        "pivotAggregation": null,
        "pivotColumns": null,
        "xColumns": null,
        "yColumns": null
       },
       "removedWidgets": [],
       "schema": [
        {
         "metadata": "{}",
         "name": "MATNR",
         "type": "\"string\""
        },
        {
         "metadata": "{}",
         "name": "AREA",
         "type": "\"string\""
        },
        {
         "metadata": "{}",
         "name": "LGORT",
         "type": "\"string\""
        },
        {
         "metadata": "{}",
         "name": "STDDEV_DEMAND",
         "type": "\"double\""
        },
        {
         "metadata": "{}",
         "name": "demand_per_day",
         "type": "\"double\""
        }
       ],
       "type": "table"
      }
     },
     "output_type": "display_data"
    }
   ],
   "source": [
    "matnr_cons = spark.read.table('default.matnr_cons_df')\n",
    "demand_stats = matnr_cons.groupby('MATNR','AREA','LGORT').agg(round(stddev('y'),2).alias('STDDEV_DEMAND'),\n",
    "                                               round(avg('y'),2).alias('demand_per_day'))\n",
    "\n",
    "display(demand_stats)"
   ]
  },
  {
   "cell_type": "code",
   "execution_count": 0,
   "metadata": {
    "application/vnd.databricks.v1+cell": {
     "cellMetadata": {
      "byteLimit": 2048000,
      "rowLimit": 10000
     },
     "inputWidgets": {},
     "nuid": "55f05163-7ce3-46a1-9530-dccb8a9877ec",
     "showTitle": false,
     "title": ""
    }
   },
   "outputs": [
    {
     "output_type": "display_data",
     "data": {
      "text/html": [
       "<style scoped>\n",
       "  .table-result-container {\n",
       "    max-height: 300px;\n",
       "    overflow: auto;\n",
       "  }\n",
       "  table, th, td {\n",
       "    border: 1px solid black;\n",
       "    border-collapse: collapse;\n",
       "  }\n",
       "  th, td {\n",
       "    padding: 5px;\n",
       "  }\n",
       "  th {\n",
       "    text-align: left;\n",
       "  }\n",
       "</style><div class='table-result-container'><table class='table-result'><thead style='background-color: white'><tr><th>MATNR</th><th>MEDIAN_LEADTIME</th><th>std</th><th>AREA</th><th>LGORT</th></tr></thead><tbody><tr><td>1269878</td><td>49</td><td>23.0</td><td>NPI</td><td>1000</td></tr><tr><td>1426745</td><td>181</td><td>62.0</td><td>NPI</td><td>1000</td></tr><tr><td>1415244</td><td>182</td><td>132.0</td><td>NPI</td><td>1000</td></tr><tr><td>1415319</td><td>176</td><td>103.0</td><td>NPI</td><td>1000</td></tr><tr><td>1223406</td><td>144</td><td>41.0</td><td>NPI</td><td>1000</td></tr><tr><td>1415603</td><td>167</td><td>56.0</td><td>NPI</td><td>1000</td></tr><tr><td>1426657</td><td>286</td><td>146.0</td><td>NPI</td><td>1000</td></tr><tr><td>1166284</td><td>44</td><td>26.0</td><td>NPI</td><td>1000</td></tr><tr><td>1269875</td><td>47</td><td>24.0</td><td>NPI</td><td>1000</td></tr><tr><td>1269877</td><td>52</td><td>21.0</td><td>NPI</td><td>1000</td></tr></tbody></table></div>"
      ]
     },
     "metadata": {
      "application/vnd.databricks.v1+output": {
       "addedWidgets": {},
       "aggData": [],
       "aggError": "",
       "aggOverflow": false,
       "aggSchema": [],
       "aggSeriesLimitReached": false,
       "aggType": "",
       "arguments": {},
       "columnCustomDisplayInfos": {},
       "data": [
        [
         "1269878",
         49,
         23.0,
         "NPI",
         "1000"
        ],
        [
         "1426745",
         181,
         62.0,
         "NPI",
         "1000"
        ],
        [
         "1415244",
         182,
         132.0,
         "NPI",
         "1000"
        ],
        [
         "1415319",
         176,
         103.0,
         "NPI",
         "1000"
        ],
        [
         "1223406",
         144,
         41.0,
         "NPI",
         "1000"
        ],
        [
         "1415603",
         167,
         56.0,
         "NPI",
         "1000"
        ],
        [
         "1426657",
         286,
         146.0,
         "NPI",
         "1000"
        ],
        [
         "1166284",
         44,
         26.0,
         "NPI",
         "1000"
        ],
        [
         "1269875",
         47,
         24.0,
         "NPI",
         "1000"
        ],
        [
         "1269877",
         52,
         21.0,
         "NPI",
         "1000"
        ]
       ],
       "datasetInfos": [
        {
         "name": "lead_time",
         "schema": {
          "fields": [
           {
            "metadata": {},
            "name": "RECEIPT_DATE",
            "nullable": true,
            "type": "string"
           },
           {
            "metadata": {},
            "name": "PO",
            "nullable": true,
            "type": "string"
           },
           {
            "metadata": {},
            "name": "PO_LINE",
            "nullable": true,
            "type": "string"
           },
           {
            "metadata": {},
            "name": "RECEIPT_QTY",
            "nullable": true,
            "type": "integer"
           },
           {
            "metadata": {},
            "name": "PLANT",
            "nullable": true,
            "type": "string"
           },
           {
            "metadata": {},
            "name": "MATERIAL",
            "nullable": true,
            "type": "string"
           },
           {
            "metadata": {},
            "name": "PO_DATE",
            "nullable": true,
            "type": "string"
           },
           {
            "metadata": {},
            "name": "PO_RAS",
            "nullable": true,
            "type": "string"
           },
           {
            "metadata": {},
            "name": "REQID",
            "nullable": true,
            "type": "string"
           },
           {
            "metadata": {},
            "name": "REQ_LINE",
            "nullable": true,
            "type": "string"
           },
           {
            "metadata": {},
            "name": "REQ_DATE",
            "nullable": true,
            "type": "string"
           },
           {
            "metadata": {},
            "name": "REQ_TYPE",
            "nullable": true,
            "type": "string"
           },
           {
            "metadata": {},
            "name": "DAYS",
            "nullable": true,
            "type": "integer"
           },
           {
            "metadata": {},
            "name": "LAST_POA_DATE",
            "nullable": true,
            "type": "string"
           },
           {
            "metadata": {},
            "name": "MATNR",
            "nullable": true,
            "type": "string"
           }
          ],
          "type": "struct"
         },
         "tableIdentifier": null,
         "typeStr": "pyspark.sql.dataframe.DataFrame"
        },
        {
         "name": "lead_time_stats",
         "schema": {
          "fields": [
           {
            "metadata": {},
            "name": "MATNR",
            "nullable": true,
            "type": "string"
           },
           {
            "metadata": {},
            "name": "MEDIAN_LEADTIME",
            "nullable": true,
            "type": "long"
           },
           {
            "metadata": {},
            "name": "std",
            "nullable": true,
            "type": "double"
           },
           {
            "metadata": {},
            "name": "AREA",
            "nullable": true,
            "type": "string"
           },
           {
            "metadata": {},
            "name": "LGORT",
            "nullable": true,
            "type": "string"
           }
          ],
          "type": "struct"
         },
         "tableIdentifier": null,
         "typeStr": "pyspark.sql.dataframe.DataFrame"
        }
       ],
       "dbfsResultPath": null,
       "isJsonSchema": true,
       "metadata": {},
       "overflow": false,
       "plotOptions": {
        "customPlotOptions": {},
        "displayType": "table",
        "pivotAggregation": null,
        "pivotColumns": null,
        "xColumns": null,
        "yColumns": null
       },
       "removedWidgets": [],
       "schema": [
        {
         "metadata": "{}",
         "name": "MATNR",
         "type": "\"string\""
        },
        {
         "metadata": "{}",
         "name": "MEDIAN_LEADTIME",
         "type": "\"long\""
        },
        {
         "metadata": "{}",
         "name": "std",
         "type": "\"double\""
        },
        {
         "metadata": "{}",
         "name": "AREA",
         "type": "\"string\""
        },
        {
         "metadata": "{}",
         "name": "LGORT",
         "type": "\"string\""
        }
       ],
       "type": "table"
      }
     },
     "output_type": "display_data"
    }
   ],
   "source": [
    "lead_time    =   LEADTIME.join(PLANTS_TABLE,['PLANT'],'inner').filter(F.col(\"REQ_TYPE\") == \"ZINV\")\\\n",
    "                             .select(LEADTIME.columns)\n",
    "\n",
    "lead_time_stats = lead_time.groupby(\"MATNR\")\\\n",
    "                                     .agg(F.floor(F.expr('percentile(DAYS, 0.5)')).alias(\"MEDIAN_LEADTIME\"), \n",
    "                                           round( F.stddev(col('DAYS')),0).alias('std'))\\\n",
    "                                     .join(MATERIAL_LIST.select(\"MATNR\",'AREA',\"LGORT\"),[\"MATNR\"],\"inner\")\n",
    "\n",
    "display(lead_time_stats)"
   ]
  },
  {
   "cell_type": "code",
   "execution_count": 0,
   "metadata": {
    "application/vnd.databricks.v1+cell": {
     "cellMetadata": {
      "byteLimit": 2048000,
      "rowLimit": 10000
     },
     "inputWidgets": {},
     "nuid": "27658729-4a47-46fb-9355-20198cae92f0",
     "showTitle": false,
     "title": ""
    }
   },
   "outputs": [
    {
     "output_type": "display_data",
     "data": {
      "text/html": [
       "<style scoped>\n",
       "  .ansiout {\n",
       "    display: block;\n",
       "    unicode-bidi: embed;\n",
       "    white-space: pre-wrap;\n",
       "    word-wrap: break-word;\n",
       "    word-break: break-all;\n",
       "    font-family: \"Source Code Pro\", \"Menlo\", monospace;;\n",
       "    font-size: 13px;\n",
       "    color: #555;\n",
       "    margin-left: 4px;\n",
       "    line-height: 19px;\n",
       "  }\n",
       "</style>\n",
       "<div class=\"ansiout\"></div>"
      ]
     },
     "metadata": {
      "application/vnd.databricks.v1+output": {
       "addedWidgets": {},
       "arguments": {},
       "data": "<div class=\"ansiout\"></div>",
       "datasetInfos": [
        {
         "name": "inventory_stats",
         "schema": {
          "fields": [
           {
            "metadata": {},
            "name": "MATNR",
            "nullable": true,
            "type": "string"
           },
           {
            "metadata": {},
            "name": "AREA",
            "nullable": true,
            "type": "string"
           },
           {
            "metadata": {},
            "name": "LGORT",
            "nullable": true,
            "type": "string"
           },
           {
            "metadata": {},
            "name": "Inventory",
            "nullable": true,
            "type": "long"
           },
           {
            "metadata": {},
            "name": "INV_CAPEX",
            "nullable": true,
            "type": "double"
           }
          ],
          "type": "struct"
         },
         "tableIdentifier": null,
         "typeStr": "pyspark.sql.dataframe.DataFrame"
        }
       ],
       "metadata": {},
       "removedWidgets": [],
       "type": "html"
      }
     },
     "output_type": "display_data"
    }
   ],
   "source": [
    "inventory_stats = INVENTORY.join(PLANT_LIST,['PLANT','LGORT'],'inner')\\\n",
    "                           .join(MATERIAL_LIST,['MATNR','AREA','LGORT'],'inner')\\\n",
    "                             .groupby('MATNR','AREA','LGORT').agg(sum('QUANTITY').alias('Inventory'),\n",
    "                                                                  sum('TOTAL_VALUATION').alias('INV_CAPEX') ) \n",
    "# display(inventory_stats)"
   ]
  },
  {
   "cell_type": "code",
   "execution_count": 0,
   "metadata": {
    "application/vnd.databricks.v1+cell": {
     "cellMetadata": {
      "byteLimit": 2048000,
      "rowLimit": 10000
     },
     "inputWidgets": {},
     "nuid": "42d32321-4f23-48ff-b339-be09eff30b22",
     "showTitle": false,
     "title": ""
    }
   },
   "outputs": [
    {
     "output_type": "display_data",
     "data": {
      "text/html": [
       "<style scoped>\n",
       "  .table-result-container {\n",
       "    max-height: 300px;\n",
       "    overflow: auto;\n",
       "  }\n",
       "  table, th, td {\n",
       "    border: 1px solid black;\n",
       "    border-collapse: collapse;\n",
       "  }\n",
       "  th, td {\n",
       "    padding: 5px;\n",
       "  }\n",
       "  th {\n",
       "    text-align: left;\n",
       "  }\n",
       "</style><div class='table-result-container'><table class='table-result'><thead style='background-color: white'><tr><th>MATNR</th><th>AREA</th><th>LGORT</th><th>Open_POs</th></tr></thead><tbody><tr><td>1223406</td><td>NPI</td><td>1000</td><td>251</td></tr><tr><td>1415244</td><td>NPI</td><td>1000</td><td>122</td></tr><tr><td>1415319</td><td>NPI</td><td>1000</td><td>157</td></tr><tr><td>1269875</td><td>NPI</td><td>1000</td><td>3</td></tr><tr><td>1269877</td><td>NPI</td><td>1000</td><td>5</td></tr><tr><td>1426657</td><td>NPI</td><td>1000</td><td>1268</td></tr><tr><td>1415603</td><td>NPI</td><td>1000</td><td>1599</td></tr><tr><td>1426745</td><td>NPI</td><td>1000</td><td>1610</td></tr></tbody></table></div>"
      ]
     },
     "metadata": {
      "application/vnd.databricks.v1+output": {
       "addedWidgets": {},
       "aggData": [],
       "aggError": "",
       "aggOverflow": false,
       "aggSchema": [],
       "aggSeriesLimitReached": false,
       "aggType": "",
       "arguments": {},
       "columnCustomDisplayInfos": {},
       "data": [
        [
         "1223406",
         "NPI",
         "1000",
         251
        ],
        [
         "1415244",
         "NPI",
         "1000",
         122
        ],
        [
         "1415319",
         "NPI",
         "1000",
         157
        ],
        [
         "1269875",
         "NPI",
         "1000",
         3
        ],
        [
         "1269877",
         "NPI",
         "1000",
         5
        ],
        [
         "1426657",
         "NPI",
         "1000",
         1268
        ],
        [
         "1415603",
         "NPI",
         "1000",
         1599
        ],
        [
         "1426745",
         "NPI",
         "1000",
         1610
        ]
       ],
       "datasetInfos": [
        {
         "name": "open_po",
         "schema": {
          "fields": [
           {
            "metadata": {},
            "name": "MATNR",
            "nullable": true,
            "type": "string"
           },
           {
            "metadata": {},
            "name": "AREA",
            "nullable": true,
            "type": "string"
           },
           {
            "metadata": {},
            "name": "LGORT",
            "nullable": true,
            "type": "string"
           },
           {
            "metadata": {},
            "name": "Open_POs",
            "nullable": true,
            "type": "long"
           }
          ],
          "type": "struct"
         },
         "tableIdentifier": null,
         "typeStr": "pyspark.sql.dataframe.DataFrame"
        }
       ],
       "dbfsResultPath": null,
       "isJsonSchema": true,
       "metadata": {},
       "overflow": false,
       "plotOptions": {
        "customPlotOptions": {},
        "displayType": "table",
        "pivotAggregation": null,
        "pivotColumns": null,
        "xColumns": null,
        "yColumns": null
       },
       "removedWidgets": [],
       "schema": [
        {
         "metadata": "{}",
         "name": "MATNR",
         "type": "\"string\""
        },
        {
         "metadata": "{}",
         "name": "AREA",
         "type": "\"string\""
        },
        {
         "metadata": "{}",
         "name": "LGORT",
         "type": "\"string\""
        },
        {
         "metadata": "{}",
         "name": "Open_POs",
         "type": "\"long\""
        }
       ],
       "type": "table"
      }
     },
     "output_type": "display_data"
    }
   ],
   "source": [
    "open_po = OPEN_REPLEN.drop('AREA').join(PLANT_LIST,['PLANT','LGORT'],'inner')\\\n",
    "                           .join(MATERIAL_LIST,['MATNR','AREA','LGORT'],'inner')\\\n",
    "                             .groupby('MATNR','AREA','LGORT').agg(sum('OPEN_QTY').alias('Open_POs') ) \n",
    "\n",
    "display(open_po)"
   ]
  },
  {
   "cell_type": "code",
   "execution_count": 0,
   "metadata": {
    "application/vnd.databricks.v1+cell": {
     "cellMetadata": {
      "byteLimit": 2048000,
      "rowLimit": 10000
     },
     "inputWidgets": {},
     "nuid": "5beffc97-1477-4ec7-9dc9-c9e1de23eaf4",
     "showTitle": false,
     "title": ""
    }
   },
   "outputs": [
    {
     "output_type": "display_data",
     "data": {
      "text/html": [
       "<style scoped>\n",
       "  .ansiout {\n",
       "    display: block;\n",
       "    unicode-bidi: embed;\n",
       "    white-space: pre-wrap;\n",
       "    word-wrap: break-word;\n",
       "    word-break: break-all;\n",
       "    font-family: \"Source Code Pro\", \"Menlo\", monospace;;\n",
       "    font-size: 13px;\n",
       "    color: #555;\n",
       "    margin-left: 4px;\n",
       "    line-height: 19px;\n",
       "  }\n",
       "</style>\n",
       "<div class=\"ansiout\"></div>"
      ]
     },
     "metadata": {
      "application/vnd.databricks.v1+output": {
       "addedWidgets": {},
       "arguments": {},
       "data": "<div class=\"ansiout\"></div>",
       "datasetInfos": [
        {
         "name": "pricing",
         "schema": {
          "fields": [
           {
            "metadata": {},
            "name": "MATNR",
            "nullable": true,
            "type": "string"
           },
           {
            "metadata": {},
            "name": "Unit_Price",
            "nullable": true,
            "type": "decimal(18,2)"
           },
           {
            "metadata": {},
            "name": "LGORT",
            "nullable": true,
            "type": "string"
           },
           {
            "metadata": {},
            "name": "AREA",
            "nullable": true,
            "type": "string"
           }
          ],
          "type": "struct"
         },
         "tableIdentifier": null,
         "typeStr": "pyspark.sql.dataframe.DataFrame"
        }
       ],
       "metadata": {},
       "removedWidgets": [],
       "type": "html"
      }
     },
     "output_type": "display_data"
    }
   ],
   "source": [
    "pricing = MATERIAL_MASTER.select('MATNR', col('CURRENT_PRICE').alias('Unit_Price'))\\\n",
    "                         .join(MATERIAL_LIST,['MATNR'],'inner')\n",
    "# display(pricing)"
   ]
  },
  {
   "cell_type": "code",
   "execution_count": 0,
   "metadata": {
    "application/vnd.databricks.v1+cell": {
     "cellMetadata": {
      "byteLimit": 2048000,
      "rowLimit": 10000
     },
     "inputWidgets": {},
     "nuid": "7cc8526a-a5f5-45c6-a9fe-8b9d57cdd9aa",
     "showTitle": false,
     "title": ""
    }
   },
   "outputs": [
    {
     "output_type": "display_data",
     "data": {
      "text/html": [
       "<style scoped>\n",
       "  .table-result-container {\n",
       "    max-height: 300px;\n",
       "    overflow: auto;\n",
       "  }\n",
       "  table, th, td {\n",
       "    border: 1px solid black;\n",
       "    border-collapse: collapse;\n",
       "  }\n",
       "  th, td {\n",
       "    padding: 5px;\n",
       "  }\n",
       "  th {\n",
       "    text-align: left;\n",
       "  }\n",
       "</style><div class='table-result-container'><table class='table-result'><thead style='background-color: white'><tr><th>MATNR</th><th>AREA</th><th>LGORT</th><th>demand_per_day</th><th>MEDIAN_LEADTIME</th><th>Inventory</th><th>INV_CAPEX</th><th>Open_POs</th><th>Unit_Price</th><th>Reorder_Point</th><th>Inventory_Exhaust_Date</th></tr></thead><tbody><tr><td>1269878</td><td>NPI</td><td>1000</td><td>2.55</td><td>49</td><td>0</td><td>0.0</td><td>0</td><td>80.0</td><td>156</td><td>2023-10-12</td></tr><tr><td>1426745</td><td>NPI</td><td>1000</td><td>10.16</td><td>181</td><td>3690</td><td>88630.54</td><td>1610</td><td>52.0</td><td>2021</td><td>2024-10-09</td></tr><tr><td>1415244</td><td>NPI</td><td>1000</td><td>2.88</td><td>182</td><td>32</td><td>12566.4</td><td>122</td><td>341.0</td><td>589</td><td>2023-10-23</td></tr><tr><td>1415319</td><td>NPI</td><td>1000</td><td>8.51</td><td>176</td><td>189</td><td>9792.09</td><td>157</td><td>49.0</td><td>1686</td><td>2023-11-03</td></tr><tr><td>1223406</td><td>NPI</td><td>1000</td><td>1.2</td><td>144</td><td>41</td><td>733.0799999999999</td><td>251</td><td>16.16</td><td>206</td><td>2023-11-15</td></tr><tr><td>1415603</td><td>NPI</td><td>1000</td><td>10.16</td><td>167</td><td>3526</td><td>1186447.51</td><td>1599</td><td>721.0</td><td>1875</td><td>2024-09-23</td></tr><tr><td>1426657</td><td>NPI</td><td>1000</td><td>6.02</td><td>286</td><td>1989</td><td>518363.32</td><td>1268</td><td>643.0</td><td>1863</td><td>2024-09-06</td></tr><tr><td>1166284</td><td>NPI</td><td>1000</td><td>9.28</td><td>44</td><td>510</td><td>10646.42</td><td>0</td><td>20.0</td><td>552</td><td>2023-12-06</td></tr><tr><td>1269875</td><td>NPI</td><td>1000</td><td>1.86</td><td>47</td><td>56</td><td>3025.7</td><td>3</td><td>54.0</td><td>112</td><td>2023-11-11</td></tr><tr><td>1269877</td><td>NPI</td><td>1000</td><td>2.49</td><td>52</td><td>83</td><td>6716.33</td><td>5</td><td>80.0</td><td>160</td><td>2023-11-14</td></tr></tbody></table></div>"
      ]
     },
     "metadata": {
      "application/vnd.databricks.v1+output": {
       "addedWidgets": {},
       "aggData": [],
       "aggError": "",
       "aggOverflow": false,
       "aggSchema": [],
       "aggSeriesLimitReached": false,
       "aggType": "",
       "arguments": {},
       "columnCustomDisplayInfos": {},
       "data": [
        [
         "1269878",
         "NPI",
         "1000",
         2.55,
         49,
         0,
         0.0,
         0,
         80.0,
         156,
         "2023-10-12"
        ],
        [
         "1426745",
         "NPI",
         "1000",
         10.16,
         181,
         3690,
         88630.54,
         1610,
         52.0,
         2021,
         "2024-10-09"
        ],
        [
         "1415244",
         "NPI",
         "1000",
         2.88,
         182,
         32,
         12566.4,
         122,
         341.0,
         589,
         "2023-10-23"
        ],
        [
         "1415319",
         "NPI",
         "1000",
         8.51,
         176,
         189,
         9792.09,
         157,
         49.0,
         1686,
         "2023-11-03"
        ],
        [
         "1223406",
         "NPI",
         "1000",
         1.2,
         144,
         41,
         733.0799999999999,
         251,
         16.16,
         206,
         "2023-11-15"
        ],
        [
         "1415603",
         "NPI",
         "1000",
         10.16,
         167,
         3526,
         1186447.51,
         1599,
         721.0,
         1875,
         "2024-09-23"
        ],
        [
         "1426657",
         "NPI",
         "1000",
         6.02,
         286,
         1989,
         518363.32,
         1268,
         643.0,
         1863,
         "2024-09-06"
        ],
        [
         "1166284",
         "NPI",
         "1000",
         9.28,
         44,
         510,
         10646.42,
         0,
         20.0,
         552,
         "2023-12-06"
        ],
        [
         "1269875",
         "NPI",
         "1000",
         1.86,
         47,
         56,
         3025.7,
         3,
         54.0,
         112,
         "2023-11-11"
        ],
        [
         "1269877",
         "NPI",
         "1000",
         2.49,
         52,
         83,
         6716.33,
         5,
         80.0,
         160,
         "2023-11-14"
        ]
       ],
       "datasetInfos": [
        {
         "name": "demand_over_leadtime",
         "schema": {
          "fields": [
           {
            "metadata": {},
            "name": "MATNR",
            "nullable": true,
            "type": "string"
           },
           {
            "metadata": {},
            "name": "AREA",
            "nullable": true,
            "type": "string"
           },
           {
            "metadata": {},
            "name": "LGORT",
            "nullable": true,
            "type": "string"
           },
           {
            "metadata": {},
            "name": "demand_per_day",
            "nullable": false,
            "type": "double"
           },
           {
            "metadata": {},
            "name": "STDDEV_DEMAND",
            "nullable": false,
            "type": "double"
           },
           {
            "metadata": {},
            "name": "MEDIAN_LEADTIME",
            "nullable": true,
            "type": "long"
           },
           {
            "metadata": {},
            "name": "Inventory",
            "nullable": true,
            "type": "long"
           },
           {
            "metadata": {},
            "name": "INV_CAPEX",
            "nullable": false,
            "type": "double"
           },
           {
            "metadata": {},
            "name": "Open_POs",
            "nullable": true,
            "type": "long"
           },
           {
            "metadata": {},
            "name": "Unit_Price",
            "nullable": true,
            "type": "decimal(18,2)"
           }
          ],
          "type": "struct"
         },
         "tableIdentifier": null,
         "typeStr": "pyspark.sql.dataframe.DataFrame"
        },
        {
         "name": "demand_over_leadtime_selected",
         "schema": {
          "fields": [
           {
            "metadata": {},
            "name": "MATNR",
            "nullable": true,
            "type": "string"
           },
           {
            "metadata": {},
            "name": "AREA",
            "nullable": true,
            "type": "string"
           },
           {
            "metadata": {},
            "name": "LGORT",
            "nullable": true,
            "type": "string"
           },
           {
            "metadata": {},
            "name": "demand_per_day",
            "nullable": false,
            "type": "double"
           },
           {
            "metadata": {},
            "name": "MEDIAN_LEADTIME",
            "nullable": true,
            "type": "long"
           },
           {
            "metadata": {},
            "name": "Inventory",
            "nullable": true,
            "type": "long"
           },
           {
            "metadata": {},
            "name": "INV_CAPEX",
            "nullable": false,
            "type": "double"
           },
           {
            "metadata": {},
            "name": "Open_POs",
            "nullable": true,
            "type": "long"
           },
           {
            "metadata": {},
            "name": "Unit_Price",
            "nullable": true,
            "type": "decimal(18,2)"
           },
           {
            "metadata": {},
            "name": "Reorder_Point",
            "nullable": true,
            "type": "long"
           },
           {
            "metadata": {},
            "name": "Inventory_Exhaust_Date",
            "nullable": true,
            "type": "date"
           }
          ],
          "type": "struct"
         },
         "tableIdentifier": null,
         "typeStr": "pyspark.sql.dataframe.DataFrame"
        }
       ],
       "dbfsResultPath": null,
       "isJsonSchema": true,
       "metadata": {},
       "overflow": false,
       "plotOptions": {
        "customPlotOptions": {},
        "displayType": "table",
        "pivotAggregation": null,
        "pivotColumns": null,
        "xColumns": null,
        "yColumns": null
       },
       "removedWidgets": [],
       "schema": [
        {
         "metadata": "{}",
         "name": "MATNR",
         "type": "\"string\""
        },
        {
         "metadata": "{}",
         "name": "AREA",
         "type": "\"string\""
        },
        {
         "metadata": "{}",
         "name": "LGORT",
         "type": "\"string\""
        },
        {
         "metadata": "{}",
         "name": "demand_per_day",
         "type": "\"double\""
        },
        {
         "metadata": "{}",
         "name": "MEDIAN_LEADTIME",
         "type": "\"long\""
        },
        {
         "metadata": "{}",
         "name": "Inventory",
         "type": "\"long\""
        },
        {
         "metadata": "{}",
         "name": "INV_CAPEX",
         "type": "\"double\""
        },
        {
         "metadata": "{}",
         "name": "Open_POs",
         "type": "\"long\""
        },
        {
         "metadata": "{}",
         "name": "Unit_Price",
         "type": "\"decimal(18,2)\""
        },
        {
         "metadata": "{}",
         "name": "Reorder_Point",
         "type": "\"long\""
        },
        {
         "metadata": "{}",
         "name": "Inventory_Exhaust_Date",
         "type": "\"date\""
        }
       ],
       "type": "table"
      }
     },
     "output_type": "display_data"
    }
   ],
   "source": [
    "demand_over_leadtime = demand_stats.select(\"MATNR\",\"AREA\",\"LGORT\",\"demand_per_day\",\"STDDEV_DEMAND\")\\\n",
    "                .join(lead_time_stats.select(\"MATNR\",\"AREA\",\"LGORT\",\"MEDIAN_LEADTIME\"),\n",
    "                                         [\"MATNR\",\"AREA\",\"LGORT\"], how=\"inner\")\\\n",
    "                                   .join(inventory_stats.select(\"MATNR\",\"AREA\",\"LGORT\" ,\"Inventory\", \"INV_CAPEX\"),[\"MATNR\",\"AREA\",\"LGORT\"], how=\"left\")\\\n",
    "                                   .join(open_po,[\"MATNR\",\"AREA\",\"LGORT\"], how=\"left\")\\\n",
    "                                   .join(pricing,[\"MATNR\",\"AREA\",\"LGORT\"], \"left\").fillna(0)\n",
    "\n",
    "demand_over_leadtime_selected = demand_over_leadtime.withColumn(\"mean_demand_over_leadtime\", \n",
    "                                                       F.round(F.col(\"MEDIAN_LEADTIME\")*F.col(\"demand_per_day\"), 2))\\\n",
    "                       .withColumn(\"std_demand_over_leadtime\", F.round(F.sqrt(F.col(\"MEDIAN_LEADTIME\"))*F.col(\"STDDEV_DEMAND\"), 2))\\\n",
    "                       .withColumn(\"Reorder_Point\", F.col(\"mean_demand_over_leadtime\") + z*F.col(\"std_demand_over_leadtime\"))\\\n",
    "                       .withColumn(\"Reorder_Point\", F.when(F.col('Reorder_Point')== 0,1).otherwise(F.ceil(col('Reorder_Point'))))\\\n",
    "                        .select(\"MATNR\",\"AREA\",\"LGORT\",\"demand_per_day\",\"MEDIAN_LEADTIME\"\n",
    "                        ,\"Inventory\",\"INV_CAPEX\",\"Open_POs\", \"Unit_Price\",\"Reorder_Point\")\\\n",
    "                      .withColumn(\"Inventory_Exhaust_Days\",F.round((F.col(\"Inventory\"))/(F.col(\"demand_per_day\")))\\\n",
    "                                  .cast(T.IntegerType()))\\\n",
    "                      .withColumn(\"Inventory_Exhaust_Date\", F.expr(\"date_add(CURRENT_DATE(), Inventory_Exhaust_Days)\"))\\\n",
    "                      .drop(\"today\", \"Inventory_Exhaust_Days\",\"demand_per_day_6month\",\"demand_per_day_12month\")\n",
    "\n",
    "display(demand_over_leadtime_selected)"
   ]
  },
  {
   "cell_type": "code",
   "execution_count": 0,
   "metadata": {
    "application/vnd.databricks.v1+cell": {
     "cellMetadata": {
      "byteLimit": 2048000,
      "rowLimit": 10000
     },
     "inputWidgets": {},
     "nuid": "04698ccc-e063-4c1e-aaa0-8acb1bad1dcc",
     "showTitle": false,
     "title": ""
    }
   },
   "outputs": [
    {
     "output_type": "display_data",
     "data": {
      "text/html": [
       "<style scoped>\n",
       "  .ansiout {\n",
       "    display: block;\n",
       "    unicode-bidi: embed;\n",
       "    white-space: pre-wrap;\n",
       "    word-wrap: break-word;\n",
       "    word-break: break-all;\n",
       "    font-family: \"Source Code Pro\", \"Menlo\", monospace;;\n",
       "    font-size: 13px;\n",
       "    color: #555;\n",
       "    margin-left: 4px;\n",
       "    line-height: 19px;\n",
       "  }\n",
       "</style>\n",
       "<div class=\"ansiout\"></div>"
      ]
     },
     "metadata": {
      "application/vnd.databricks.v1+output": {
       "addedWidgets": {},
       "arguments": {},
       "data": "<div class=\"ansiout\"></div>",
       "datasetInfos": [
        {
         "name": "daily_forecast",
         "schema": {
          "fields": [
           {
            "metadata": {},
            "name": "ds",
            "nullable": true,
            "type": "timestamp"
           },
           {
            "metadata": {},
            "name": "MATNR",
            "nullable": true,
            "type": "string"
           },
           {
            "metadata": {},
            "name": "AREA",
            "nullable": true,
            "type": "string"
           },
           {
            "metadata": {},
            "name": "LGORT",
            "nullable": true,
            "type": "string"
           },
           {
            "metadata": {},
            "name": "y",
            "nullable": true,
            "type": "float"
           },
           {
            "metadata": {},
            "name": "yhat",
            "nullable": true,
            "type": "float"
           },
           {
            "metadata": {},
            "name": "Is_Predicted",
            "nullable": true,
            "type": "string"
           }
          ],
          "type": "struct"
         },
         "tableIdentifier": null,
         "typeStr": "pyspark.sql.dataframe.DataFrame"
        }
       ],
       "metadata": {},
       "removedWidgets": [],
       "type": "html"
      }
     },
     "output_type": "display_data"
    }
   ],
   "source": [
    "daily_forecast = spark.read.table('default.daily_forecast_df').filter(F.col(\"Is_Predicted\")== \"Y\")"
   ]
  },
  {
   "cell_type": "code",
   "execution_count": 0,
   "metadata": {
    "application/vnd.databricks.v1+cell": {
     "cellMetadata": {
      "byteLimit": 2048000,
      "rowLimit": 10000
     },
     "inputWidgets": {},
     "nuid": "3273ea5d-166b-4467-8383-745d99310caa",
     "showTitle": false,
     "title": ""
    }
   },
   "outputs": [
    {
     "output_type": "display_data",
     "data": {
      "text/html": [
       "<style scoped>\n",
       "  .ansiout {\n",
       "    display: block;\n",
       "    unicode-bidi: embed;\n",
       "    white-space: pre-wrap;\n",
       "    word-wrap: break-word;\n",
       "    word-break: break-all;\n",
       "    font-family: \"Source Code Pro\", \"Menlo\", monospace;;\n",
       "    font-size: 13px;\n",
       "    color: #555;\n",
       "    margin-left: 4px;\n",
       "    line-height: 19px;\n",
       "  }\n",
       "</style>\n",
       "<div class=\"ansiout\"></div>"
      ]
     },
     "metadata": {
      "application/vnd.databricks.v1+output": {
       "addedWidgets": {},
       "arguments": {},
       "data": "<div class=\"ansiout\"></div>",
       "datasetInfos": [],
       "metadata": {},
       "removedWidgets": [],
       "type": "html"
      }
     },
     "output_type": "display_data"
    }
   ],
   "source": [
    "monthly_window = (Window()\n",
    "   .partitionBy(col('MATNR'),col('AREA'),col('LGORT'))\n",
    "   .orderBy(col(\"ds\").desc())\n",
    "   .rowsBetween(0, 30))"
   ]
  },
  {
   "cell_type": "code",
   "execution_count": 0,
   "metadata": {
    "application/vnd.databricks.v1+cell": {
     "cellMetadata": {
      "byteLimit": 2048000,
      "rowLimit": 10000
     },
     "inputWidgets": {},
     "nuid": "a93b50f2-7e91-44cb-8203-d226f48ed4ad",
     "showTitle": false,
     "title": ""
    }
   },
   "outputs": [
    {
     "output_type": "display_data",
     "data": {
      "text/html": [
       "<style scoped>\n",
       "  .ansiout {\n",
       "    display: block;\n",
       "    unicode-bidi: embed;\n",
       "    white-space: pre-wrap;\n",
       "    word-wrap: break-word;\n",
       "    word-break: break-all;\n",
       "    font-family: \"Source Code Pro\", \"Menlo\", monospace;;\n",
       "    font-size: 13px;\n",
       "    color: #555;\n",
       "    margin-left: 4px;\n",
       "    line-height: 19px;\n",
       "  }\n",
       "</style>\n",
       "<div class=\"ansiout\"></div>"
      ]
     },
     "metadata": {
      "application/vnd.databricks.v1+output": {
       "addedWidgets": {},
       "arguments": {},
       "data": "<div class=\"ansiout\"></div>",
       "datasetInfos": [
        {
         "name": "day30_pred",
         "schema": {
          "fields": [
           {
            "metadata": {},
            "name": "MATNR",
            "nullable": true,
            "type": "string"
           },
           {
            "metadata": {},
            "name": "AREA",
            "nullable": true,
            "type": "string"
           },
           {
            "metadata": {},
            "name": "LGORT",
            "nullable": true,
            "type": "string"
           },
           {
            "metadata": {},
            "name": "Predicted_Demand_30_Day",
            "nullable": true,
            "type": "double"
           }
          ],
          "type": "struct"
         },
         "tableIdentifier": null,
         "typeStr": "pyspark.sql.dataframe.DataFrame"
        },
        {
         "name": "Mat_stats",
         "schema": {
          "fields": [
           {
            "metadata": {},
            "name": "MATNR",
            "nullable": true,
            "type": "string"
           },
           {
            "metadata": {},
            "name": "AREA",
            "nullable": true,
            "type": "string"
           },
           {
            "metadata": {},
            "name": "LGORT",
            "nullable": true,
            "type": "string"
           },
           {
            "metadata": {},
            "name": "Avg_Monthly_Demand",
            "nullable": true,
            "type": "double"
           },
           {
            "metadata": {},
            "name": "Predicted_Demand_30_Day",
            "nullable": true,
            "type": "double"
           }
          ],
          "type": "struct"
         },
         "tableIdentifier": null,
         "typeStr": "pyspark.sql.dataframe.DataFrame"
        }
       ],
       "metadata": {},
       "removedWidgets": [],
       "type": "html"
      }
     },
     "output_type": "display_data"
    }
   ],
   "source": [
    "day30_pred = daily_forecast.where(col('ds') < date_add(CURRENT_D,30)).groupBy(\"MATNR\",\"AREA\",'LGORT')\\\n",
    "                                    .agg(round(sum(\"yhat\")).alias(\"Predicted_Demand_30_Day\"))\n",
    "\n",
    "Mat_stats = matnr_cons.withColumn(\"total\",round(sum(\"y\").over(monthly_window)))\\\n",
    "                    .withColumn(\"row_num\", \n",
    "                                row_number().over(Window().partitionBy(col('MATNR'),col('AREA'),col('LGORT'))\\\n",
    "                    .orderBy(col('ds').desc())) % 30).filter(col('row_num') == 1)\\\n",
    "                    .groupby(\"MATNR\",\"AREA\",\"LGORT\").agg(round(F.avg(\"total\"),2).alias(\"Avg_Monthly_Demand\"))\\\n",
    "                    .join(day30_pred,[\"MATNR\",\"AREA\",\"LGORT\"],'inner')\n",
    "\n"
   ]
  },
  {
   "cell_type": "code",
   "execution_count": 0,
   "metadata": {
    "application/vnd.databricks.v1+cell": {
     "cellMetadata": {
      "byteLimit": 2048000,
      "rowLimit": 10000
     },
     "inputWidgets": {},
     "nuid": "6f4ea3a3-7d3f-4994-a938-eca870f17709",
     "showTitle": false,
     "title": ""
    }
   },
   "outputs": [
    {
     "output_type": "display_data",
     "data": {
      "text/html": [
       "<style scoped>\n",
       "  .ansiout {\n",
       "    display: block;\n",
       "    unicode-bidi: embed;\n",
       "    white-space: pre-wrap;\n",
       "    word-wrap: break-word;\n",
       "    word-break: break-all;\n",
       "    font-family: \"Source Code Pro\", \"Menlo\", monospace;;\n",
       "    font-size: 13px;\n",
       "    color: #555;\n",
       "    margin-left: 4px;\n",
       "    line-height: 19px;\n",
       "  }\n",
       "</style>\n",
       "<div class=\"ansiout\"></div>"
      ]
     },
     "metadata": {
      "application/vnd.databricks.v1+output": {
       "addedWidgets": {},
       "arguments": {},
       "data": "<div class=\"ansiout\"></div>",
       "datasetInfos": [
        {
         "name": "dmd_lt",
         "schema": {
          "fields": [
           {
            "metadata": {},
            "name": "MATNR",
            "nullable": true,
            "type": "string"
           },
           {
            "metadata": {},
            "name": "AREA",
            "nullable": true,
            "type": "string"
           },
           {
            "metadata": {},
            "name": "LGORT",
            "nullable": true,
            "type": "string"
           },
           {
            "metadata": {},
            "name": "STDDEV_DEMAND",
            "nullable": true,
            "type": "double"
           },
           {
            "metadata": {},
            "name": "AVG_DEMAND",
            "nullable": true,
            "type": "double"
           },
           {
            "metadata": {},
            "name": "MEDIAN_LEADTIME",
            "nullable": true,
            "type": "long"
           },
           {
            "metadata": {},
            "name": "std",
            "nullable": true,
            "type": "double"
           }
          ],
          "type": "struct"
         },
         "tableIdentifier": null,
         "typeStr": "pyspark.sql.dataframe.DataFrame"
        },
        {
         "name": "safety_stock_cal",
         "schema": {
          "fields": [
           {
            "metadata": {},
            "name": "MATNR",
            "nullable": true,
            "type": "string"
           },
           {
            "metadata": {},
            "name": "AREA",
            "nullable": true,
            "type": "string"
           },
           {
            "metadata": {},
            "name": "LGORT",
            "nullable": true,
            "type": "string"
           },
           {
            "metadata": {},
            "name": "SAFETY_STOCK",
            "nullable": true,
            "type": "double"
           }
          ],
          "type": "struct"
         },
         "tableIdentifier": null,
         "typeStr": "pyspark.sql.dataframe.DataFrame"
        }
       ],
       "metadata": {},
       "removedWidgets": [],
       "type": "html"
      }
     },
     "output_type": "display_data"
    }
   ],
   "source": [
    "dmd_lt = demand_stats.select('MATNR','AREA','LGORT','STDDEV_DEMAND')\\\n",
    ".join(Mat_stats.select('MATNR','AREA', 'LGORT', 'Avg_Monthly_Demand'), ['MATNR','AREA' ,'LGORT'], 'inner')\\\n",
    ".join(lead_time_stats,['MATNR','AREA', 'LGORT'],'inner').withColumnRenamed('Avg_Monthly_Demand', 'AVG_DEMAND')\\\n",
    ".withColumnRenamed('Avg_Monthly_Bo_Demand', 'BO_AVG_DEMAND')\n",
    "\n",
    "safety_stock_cal =  dmd_lt.withColumn('SAFETY_STOCK',\n",
    "                                      round(z*col('STDDEV_DEMAND')*sqrt(col('MEDIAN_LEADTIME')), 0))\\\n",
    "                        .select('MATNR','AREA', 'LGORT','SAFETY_STOCK')"
   ]
  },
  {
   "cell_type": "code",
   "execution_count": 0,
   "metadata": {
    "application/vnd.databricks.v1+cell": {
     "cellMetadata": {
      "byteLimit": 2048000,
      "rowLimit": 10000
     },
     "inputWidgets": {},
     "nuid": "e76c5bfd-d054-4dad-8a46-1614aff7098e",
     "showTitle": false,
     "title": ""
    }
   },
   "outputs": [
    {
     "output_type": "display_data",
     "data": {
      "text/html": [
       "<style scoped>\n",
       "  .ansiout {\n",
       "    display: block;\n",
       "    unicode-bidi: embed;\n",
       "    white-space: pre-wrap;\n",
       "    word-wrap: break-word;\n",
       "    word-break: break-all;\n",
       "    font-family: \"Source Code Pro\", \"Menlo\", monospace;;\n",
       "    font-size: 13px;\n",
       "    color: #555;\n",
       "    margin-left: 4px;\n",
       "    line-height: 19px;\n",
       "  }\n",
       "</style>\n",
       "<div class=\"ansiout\"></div>"
      ]
     },
     "metadata": {
      "application/vnd.databricks.v1+output": {
       "addedWidgets": {},
       "arguments": {},
       "data": "<div class=\"ansiout\"></div>",
       "datasetInfos": [
        {
         "name": "prediction_and_leadtime",
         "schema": {
          "fields": [
           {
            "metadata": {},
            "name": "MATNR",
            "nullable": true,
            "type": "string"
           },
           {
            "metadata": {},
            "name": "AREA",
            "nullable": true,
            "type": "string"
           },
           {
            "metadata": {},
            "name": "LGORT",
            "nullable": true,
            "type": "string"
           },
           {
            "metadata": {},
            "name": "ds",
            "nullable": true,
            "type": "timestamp"
           },
           {
            "metadata": {},
            "name": "y",
            "nullable": true,
            "type": "float"
           },
           {
            "metadata": {},
            "name": "yhat",
            "nullable": true,
            "type": "float"
           },
           {
            "metadata": {},
            "name": "Is_Predicted",
            "nullable": true,
            "type": "string"
           },
           {
            "metadata": {},
            "name": "MEDIAN_LEADTIME",
            "nullable": true,
            "type": "long"
           },
           {
            "metadata": {},
            "name": "std",
            "nullable": true,
            "type": "double"
           }
          ],
          "type": "struct"
         },
         "tableIdentifier": null,
         "typeStr": "pyspark.sql.dataframe.DataFrame"
        },
        {
         "name": "median_leadtime",
         "schema": {
          "fields": [
           {
            "metadata": {},
            "name": "MATNR",
            "nullable": true,
            "type": "string"
           },
           {
            "metadata": {},
            "name": "AREA",
            "nullable": true,
            "type": "string"
           },
           {
            "metadata": {},
            "name": "LGORT",
            "nullable": true,
            "type": "string"
           },
           {
            "metadata": {},
            "name": "ds",
            "nullable": true,
            "type": "timestamp"
           },
           {
            "metadata": {},
            "name": "y",
            "nullable": true,
            "type": "float"
           },
           {
            "metadata": {},
            "name": "yhat",
            "nullable": true,
            "type": "float"
           },
           {
            "metadata": {},
            "name": "Is_Predicted",
            "nullable": true,
            "type": "string"
           },
           {
            "metadata": {},
            "name": "MEDIAN_LEADTIME",
            "nullable": true,
            "type": "long"
           },
           {
            "metadata": {},
            "name": "std",
            "nullable": true,
            "type": "double"
           },
           {
            "metadata": {},
            "name": "row_no",
            "nullable": true,
            "type": "integer"
           }
          ],
          "type": "struct"
         },
         "tableIdentifier": null,
         "typeStr": "pyspark.sql.dataframe.DataFrame"
        },
        {
         "name": "median_leadtime_min_inv",
         "schema": {
          "fields": [
           {
            "metadata": {},
            "name": "MATNR",
            "nullable": true,
            "type": "string"
           },
           {
            "metadata": {},
            "name": "AREA",
            "nullable": true,
            "type": "string"
           },
           {
            "metadata": {},
            "name": "LGORT",
            "nullable": true,
            "type": "string"
           },
           {
            "metadata": {},
            "name": "MINIMUM_INV",
            "nullable": true,
            "type": "double"
           }
          ],
          "type": "struct"
         },
         "tableIdentifier": null,
         "typeStr": "pyspark.sql.dataframe.DataFrame"
        }
       ],
       "metadata": {},
       "removedWidgets": [],
       "type": "html"
      }
     },
     "output_type": "display_data"
    }
   ],
   "source": [
    "#Median leadtime\n",
    "windowSpec = Window.partitionBy(['MATNR',\"AREA\",\"LGORT\"]).orderBy(\"ds\")\n",
    "prediction_and_leadtime = daily_forecast.join(lead_time_stats, on = ['MATNR','AREA',\"LGORT\"], how='inner')\n",
    "\n",
    "median_leadtime = prediction_and_leadtime.withColumn(\"row_no\", F.row_number().over(windowSpec))\\\n",
    "                        .filter(F.col(\"row_no\") <= F.col(\"MEDIAN_LEADTIME\"))\n",
    "\n",
    "\n",
    "median_leadtime_min_inv = median_leadtime\\\n",
    "                        .groupby(\"MATNR\",\"AREA\",\"LGORT\").agg(F.round((F.sum(F.col(\"yhat\")))).alias(\"MINIMUM_INV\"))\\\n",
    "                        .join(safety_stock_cal,[\"MATNR\",\"AREA\",\"LGORT\"],\"left\")\\\n",
    "                          .withColumn(\"MINIMUM_INV\",F.col(\"MINIMUM_INV\") + F.col(\"Safety_Stock\"))\\\n",
    "                        .drop(\"Safety_Stock\")\n"
   ]
  },
  {
   "cell_type": "code",
   "execution_count": 0,
   "metadata": {
    "application/vnd.databricks.v1+cell": {
     "cellMetadata": {
      "byteLimit": 2048000,
      "rowLimit": 10000
     },
     "inputWidgets": {},
     "nuid": "be832e91-bc16-4a3e-9f26-e41d5bb7cc7e",
     "showTitle": false,
     "title": ""
    }
   },
   "outputs": [
    {
     "output_type": "display_data",
     "data": {
      "text/html": [
       "<style scoped>\n",
       "  .ansiout {\n",
       "    display: block;\n",
       "    unicode-bidi: embed;\n",
       "    white-space: pre-wrap;\n",
       "    word-wrap: break-word;\n",
       "    word-break: break-all;\n",
       "    font-family: \"Source Code Pro\", \"Menlo\", monospace;;\n",
       "    font-size: 13px;\n",
       "    color: #555;\n",
       "    margin-left: 4px;\n",
       "    line-height: 19px;\n",
       "  }\n",
       "</style>\n",
       "<div class=\"ansiout\"></div>"
      ]
     },
     "metadata": {
      "application/vnd.databricks.v1+output": {
       "addedWidgets": {},
       "arguments": {},
       "data": "<div class=\"ansiout\"></div>",
       "datasetInfos": [
        {
         "name": "BACKORDER",
         "schema": {
          "fields": [
           {
            "metadata": {},
            "name": "MATNR",
            "nullable": true,
            "type": "string"
           },
           {
            "metadata": {},
            "name": "AREA",
            "nullable": true,
            "type": "string"
           },
           {
            "metadata": {},
            "name": "Bo_Qty",
            "nullable": true,
            "type": "long"
           }
          ],
          "type": "struct"
         },
         "tableIdentifier": null,
         "typeStr": "pyspark.sql.dataframe.DataFrame"
        }
       ],
       "metadata": {},
       "removedWidgets": [],
       "type": "html"
      }
     },
     "output_type": "display_data"
    }
   ],
   "source": [
    "BACKORDER = BO_Details.groupby('MATNR','AREA').agg(sum('QTY').alias('Bo_Qty'))"
   ]
  },
  {
   "cell_type": "code",
   "execution_count": 0,
   "metadata": {
    "application/vnd.databricks.v1+cell": {
     "cellMetadata": {
      "byteLimit": 2048000,
      "rowLimit": 10000
     },
     "inputWidgets": {},
     "nuid": "0d5e94d4-a4cd-4ee0-9d63-b32c3d278ceb",
     "showTitle": false,
     "title": ""
    }
   },
   "outputs": [
    {
     "output_type": "display_data",
     "data": {
      "text/html": [
       "<style scoped>\n",
       "  .ansiout {\n",
       "    display: block;\n",
       "    unicode-bidi: embed;\n",
       "    white-space: pre-wrap;\n",
       "    word-wrap: break-word;\n",
       "    word-break: break-all;\n",
       "    font-family: \"Source Code Pro\", \"Menlo\", monospace;;\n",
       "    font-size: 13px;\n",
       "    color: #555;\n",
       "    margin-left: 4px;\n",
       "    line-height: 19px;\n",
       "  }\n",
       "</style>\n",
       "<div class=\"ansiout\"></div>"
      ]
     },
     "metadata": {
      "application/vnd.databricks.v1+output": {
       "addedWidgets": {},
       "arguments": {},
       "data": "<div class=\"ansiout\"></div>",
       "datasetInfos": [
        {
         "name": "final_data",
         "schema": {
          "fields": [
           {
            "metadata": {},
            "name": "MATNR",
            "nullable": true,
            "type": "string"
           },
           {
            "metadata": {},
            "name": "AREA",
            "nullable": true,
            "type": "string"
           },
           {
            "metadata": {},
            "name": "LGORT",
            "nullable": true,
            "type": "string"
           },
           {
            "metadata": {},
            "name": "demand_per_day",
            "nullable": false,
            "type": "double"
           },
           {
            "metadata": {},
            "name": "MEDIAN_LEADTIME",
            "nullable": true,
            "type": "long"
           },
           {
            "metadata": {},
            "name": "Inventory",
            "nullable": true,
            "type": "long"
           },
           {
            "metadata": {},
            "name": "INV_CAPEX",
            "nullable": false,
            "type": "double"
           },
           {
            "metadata": {},
            "name": "Open_POs",
            "nullable": true,
            "type": "long"
           },
           {
            "metadata": {},
            "name": "Unit_Price",
            "nullable": true,
            "type": "decimal(18,2)"
           },
           {
            "metadata": {},
            "name": "Reorder_Point",
            "nullable": true,
            "type": "long"
           },
           {
            "metadata": {},
            "name": "Inventory_Exhaust_Date",
            "nullable": true,
            "type": "date"
           },
           {
            "metadata": {},
            "name": "Bo_Qty",
            "nullable": true,
            "type": "long"
           },
           {
            "metadata": {},
            "name": "Avg_Monthly_Demand",
            "nullable": true,
            "type": "double"
           },
           {
            "metadata": {},
            "name": "Predicted_Demand_30_Day",
            "nullable": true,
            "type": "double"
           }
          ],
          "type": "struct"
         },
         "tableIdentifier": null,
         "typeStr": "pyspark.sql.dataframe.DataFrame"
        }
       ],
       "metadata": {},
       "removedWidgets": [],
       "type": "html"
      }
     },
     "output_type": "display_data"
    }
   ],
   "source": [
    "final_data = demand_over_leadtime_selected.join(BACKORDER,['MATNR','AREA'],'left')\\\n",
    "                          .join(median_leadtime_min_inv\\\n",
    "                           .select(\"MATNR\",\"AREA\",\"LGORT\" ,\"MINIMUM_INV\"), \n",
    "                                                               [\"MATNR\",\"AREA\",\"LGORT\"], \"inner\")\\\n",
    "                           .join(Mat_stats.select(\"MATNR\",\"AREA\",\"LGORT\",\"Avg_Monthly_Demand\",\n",
    "                                             \"Predicted_Demand_30_Day\"),[\"MATNR\",\"AREA\",\"LGORT\"], \"inner\")\\\n",
    "                           .drop(\"MINIMUM_INV\")\n",
    "\n"
   ]
  },
  {
   "cell_type": "code",
   "execution_count": 0,
   "metadata": {
    "application/vnd.databricks.v1+cell": {
     "cellMetadata": {
      "byteLimit": 2048000,
      "rowLimit": 10000
     },
     "inputWidgets": {},
     "nuid": "614d0fca-6388-4be9-b901-639f8129c3ce",
     "showTitle": false,
     "title": ""
    }
   },
   "outputs": [
    {
     "output_type": "display_data",
     "data": {
      "text/html": [
       "<style scoped>\n",
       "  .table-result-container {\n",
       "    max-height: 300px;\n",
       "    overflow: auto;\n",
       "  }\n",
       "  table, th, td {\n",
       "    border: 1px solid black;\n",
       "    border-collapse: collapse;\n",
       "  }\n",
       "  th, td {\n",
       "    padding: 5px;\n",
       "  }\n",
       "  th {\n",
       "    text-align: left;\n",
       "  }\n",
       "</style><div class='table-result-container'><table class='table-result'><thead style='background-color: white'><tr><th>MATNR</th><th>AREA</th><th>LGORT</th><th>demand_per_day</th><th>MEDIAN_LEADTIME</th><th>Inventory</th><th>INV_CAPEX</th><th>Open_POs</th><th>Unit_Price</th><th>Reorder_Point</th><th>Inventory_Exhaust_Date</th><th>Bo_Qty</th><th>Avg_Monthly_Demand</th><th>Predicted_Demand_30_Day</th><th>Reorder_dates</th></tr></thead><tbody><tr><td>1166284</td><td>NPI</td><td>1000</td><td>9.28</td><td>44</td><td>510</td><td>10646.42</td><td>0</td><td>20.0</td><td>552</td><td>2023-12-06</td><td>null</td><td>290.06</td><td>430.0</td><td>2023-10-12</td></tr><tr><td>1223406</td><td>NPI</td><td>1000</td><td>1.2</td><td>144</td><td>41</td><td>733.0799999999999</td><td>251</td><td>16.16</td><td>206</td><td>2023-11-15</td><td>null</td><td>37.19</td><td>80.0</td><td>2023-10-12</td></tr><tr><td>1269875</td><td>NPI</td><td>1000</td><td>1.86</td><td>47</td><td>56</td><td>3025.7</td><td>3</td><td>54.0</td><td>112</td><td>2023-11-11</td><td>null</td><td>57.46</td><td>74.0</td><td>2023-10-12</td></tr><tr><td>1269877</td><td>NPI</td><td>1000</td><td>2.49</td><td>52</td><td>83</td><td>6716.33</td><td>5</td><td>80.0</td><td>160</td><td>2023-11-14</td><td>null</td><td>77.2</td><td>97.0</td><td>2023-10-12</td></tr><tr><td>1269878</td><td>NPI</td><td>1000</td><td>2.55</td><td>49</td><td>0</td><td>0.0</td><td>0</td><td>80.0</td><td>156</td><td>2023-10-12</td><td>1</td><td>79.15</td><td>115.0</td><td>2023-10-12</td></tr><tr><td>1415244</td><td>NPI</td><td>1000</td><td>2.88</td><td>182</td><td>32</td><td>12566.4</td><td>122</td><td>341.0</td><td>589</td><td>2023-10-23</td><td>null</td><td>88.96</td><td>117.0</td><td>2023-10-12</td></tr><tr><td>1415319</td><td>NPI</td><td>1000</td><td>8.51</td><td>176</td><td>189</td><td>9792.09</td><td>157</td><td>49.0</td><td>1686</td><td>2023-11-03</td><td>null</td><td>263.41</td><td>352.0</td><td>2023-10-12</td></tr><tr><td>1415603</td><td>NPI</td><td>1000</td><td>10.16</td><td>167</td><td>3526</td><td>1186447.51</td><td>1599</td><td>721.0</td><td>1875</td><td>2024-09-23</td><td>null</td><td>314.09</td><td>455.0</td><td>2023-10-12</td></tr><tr><td>1426657</td><td>NPI</td><td>1000</td><td>6.02</td><td>286</td><td>1989</td><td>518363.32</td><td>1268</td><td>643.0</td><td>1863</td><td>2024-09-06</td><td>null</td><td>186.11</td><td>253.0</td><td>2023-10-12</td></tr><tr><td>1426745</td><td>NPI</td><td>1000</td><td>10.16</td><td>181</td><td>3690</td><td>88630.54</td><td>1610</td><td>52.0</td><td>2021</td><td>2024-10-09</td><td>null</td><td>313.83</td><td>471.0</td><td>2023-10-12</td></tr></tbody></table></div>"
      ]
     },
     "metadata": {
      "application/vnd.databricks.v1+output": {
       "addedWidgets": {},
       "aggData": [],
       "aggError": "",
       "aggOverflow": false,
       "aggSchema": [],
       "aggSeriesLimitReached": false,
       "aggType": "",
       "arguments": {},
       "columnCustomDisplayInfos": {},
       "data": [
        [
         "1166284",
         "NPI",
         "1000",
         9.28,
         44,
         510,
         10646.42,
         0,
         20.0,
         552,
         "2023-12-06",
         null,
         290.06,
         430.0,
         "2023-10-12"
        ],
        [
         "1223406",
         "NPI",
         "1000",
         1.2,
         144,
         41,
         733.0799999999999,
         251,
         16.16,
         206,
         "2023-11-15",
         null,
         37.19,
         80.0,
         "2023-10-12"
        ],
        [
         "1269875",
         "NPI",
         "1000",
         1.86,
         47,
         56,
         3025.7,
         3,
         54.0,
         112,
         "2023-11-11",
         null,
         57.46,
         74.0,
         "2023-10-12"
        ],
        [
         "1269877",
         "NPI",
         "1000",
         2.49,
         52,
         83,
         6716.33,
         5,
         80.0,
         160,
         "2023-11-14",
         null,
         77.2,
         97.0,
         "2023-10-12"
        ],
        [
         "1269878",
         "NPI",
         "1000",
         2.55,
         49,
         0,
         0.0,
         0,
         80.0,
         156,
         "2023-10-12",
         1,
         79.15,
         115.0,
         "2023-10-12"
        ],
        [
         "1415244",
         "NPI",
         "1000",
         2.88,
         182,
         32,
         12566.4,
         122,
         341.0,
         589,
         "2023-10-23",
         null,
         88.96,
         117.0,
         "2023-10-12"
        ],
        [
         "1415319",
         "NPI",
         "1000",
         8.51,
         176,
         189,
         9792.09,
         157,
         49.0,
         1686,
         "2023-11-03",
         null,
         263.41,
         352.0,
         "2023-10-12"
        ],
        [
         "1415603",
         "NPI",
         "1000",
         10.16,
         167,
         3526,
         1186447.51,
         1599,
         721.0,
         1875,
         "2024-09-23",
         null,
         314.09,
         455.0,
         "2023-10-12"
        ],
        [
         "1426657",
         "NPI",
         "1000",
         6.02,
         286,
         1989,
         518363.32,
         1268,
         643.0,
         1863,
         "2024-09-06",
         null,
         186.11,
         253.0,
         "2023-10-12"
        ],
        [
         "1426745",
         "NPI",
         "1000",
         10.16,
         181,
         3690,
         88630.54,
         1610,
         52.0,
         2021,
         "2024-10-09",
         null,
         313.83,
         471.0,
         "2023-10-12"
        ]
       ],
       "datasetInfos": [
        {
         "name": "reorder_date_calc",
         "schema": {
          "fields": [
           {
            "metadata": {},
            "name": "MATNR",
            "nullable": true,
            "type": "string"
           },
           {
            "metadata": {},
            "name": "AREA",
            "nullable": true,
            "type": "string"
           },
           {
            "metadata": {},
            "name": "LGORT",
            "nullable": true,
            "type": "string"
           },
           {
            "metadata": {},
            "name": "Reorder_dates",
            "nullable": true,
            "type": "date"
           }
          ],
          "type": "struct"
         },
         "tableIdentifier": null,
         "typeStr": "pyspark.sql.dataframe.DataFrame"
        },
        {
         "name": "final_data",
         "schema": {
          "fields": [
           {
            "metadata": {},
            "name": "MATNR",
            "nullable": true,
            "type": "string"
           },
           {
            "metadata": {},
            "name": "AREA",
            "nullable": true,
            "type": "string"
           },
           {
            "metadata": {},
            "name": "LGORT",
            "nullable": true,
            "type": "string"
           },
           {
            "metadata": {},
            "name": "demand_per_day",
            "nullable": false,
            "type": "double"
           },
           {
            "metadata": {},
            "name": "MEDIAN_LEADTIME",
            "nullable": true,
            "type": "long"
           },
           {
            "metadata": {},
            "name": "Inventory",
            "nullable": true,
            "type": "long"
           },
           {
            "metadata": {},
            "name": "INV_CAPEX",
            "nullable": false,
            "type": "double"
           },
           {
            "metadata": {},
            "name": "Open_POs",
            "nullable": true,
            "type": "long"
           },
           {
            "metadata": {},
            "name": "Unit_Price",
            "nullable": true,
            "type": "decimal(18,2)"
           },
           {
            "metadata": {},
            "name": "Reorder_Point",
            "nullable": true,
            "type": "long"
           },
           {
            "metadata": {},
            "name": "Inventory_Exhaust_Date",
            "nullable": true,
            "type": "date"
           },
           {
            "metadata": {},
            "name": "Bo_Qty",
            "nullable": true,
            "type": "long"
           },
           {
            "metadata": {},
            "name": "Avg_Monthly_Demand",
            "nullable": true,
            "type": "double"
           },
           {
            "metadata": {},
            "name": "Predicted_Demand_30_Day",
            "nullable": true,
            "type": "double"
           },
           {
            "metadata": {},
            "name": "Reorder_dates",
            "nullable": true,
            "type": "date"
           }
          ],
          "type": "struct"
         },
         "tableIdentifier": null,
         "typeStr": "pyspark.sql.dataframe.DataFrame"
        }
       ],
       "dbfsResultPath": null,
       "isJsonSchema": true,
       "metadata": {},
       "overflow": false,
       "plotOptions": {
        "customPlotOptions": {},
        "displayType": "table",
        "pivotAggregation": null,
        "pivotColumns": null,
        "xColumns": null,
        "yColumns": null
       },
       "removedWidgets": [],
       "schema": [
        {
         "metadata": "{}",
         "name": "MATNR",
         "type": "\"string\""
        },
        {
         "metadata": "{}",
         "name": "AREA",
         "type": "\"string\""
        },
        {
         "metadata": "{}",
         "name": "LGORT",
         "type": "\"string\""
        },
        {
         "metadata": "{}",
         "name": "demand_per_day",
         "type": "\"double\""
        },
        {
         "metadata": "{}",
         "name": "MEDIAN_LEADTIME",
         "type": "\"long\""
        },
        {
         "metadata": "{}",
         "name": "Inventory",
         "type": "\"long\""
        },
        {
         "metadata": "{}",
         "name": "INV_CAPEX",
         "type": "\"double\""
        },
        {
         "metadata": "{}",
         "name": "Open_POs",
         "type": "\"long\""
        },
        {
         "metadata": "{}",
         "name": "Unit_Price",
         "type": "\"decimal(18,2)\""
        },
        {
         "metadata": "{}",
         "name": "Reorder_Point",
         "type": "\"long\""
        },
        {
         "metadata": "{}",
         "name": "Inventory_Exhaust_Date",
         "type": "\"date\""
        },
        {
         "metadata": "{}",
         "name": "Bo_Qty",
         "type": "\"long\""
        },
        {
         "metadata": "{}",
         "name": "Avg_Monthly_Demand",
         "type": "\"double\""
        },
        {
         "metadata": "{}",
         "name": "Predicted_Demand_30_Day",
         "type": "\"double\""
        },
        {
         "metadata": "{}",
         "name": "Reorder_dates",
         "type": "\"date\""
        }
       ],
       "type": "table"
      }
     },
     "output_type": "display_data"
    }
   ],
   "source": [
    "reorder_date_calc = final_data.select('MATNR','AREA',\"LGORT\",'Inventory','Open_POs','Reorder_Point','Bo_Qty')\\\n",
    "                .withColumn(\"incoming\", (F.col(\"Inventory\") + F.col(\"Open_POs\")) - col('Bo_Qty') )\\\n",
    "               .withColumn(\"extra_items\", F.when(F.col(\"incoming\") > F.col(\"Reorder_Point\"), \n",
    "                                                 F.col(\"incoming\") - F.col(\"Reorder_Point\")).otherwise(0))\\\n",
    "               .select('MATNR','AREA',\"LGORT\",'extra_items').join(daily_forecast, ['MATNR','AREA',\"LGORT\"], 'inner')\n",
    "\n",
    "cumSumPartition = Window.partitionBy(['MATNR','AREA',\"LGORT\"]).orderBy(\"ds\").rowsBetween(-sys.maxsize -1,0)\n",
    "\n",
    "reorder_date_calc= reorder_date_calc.filter(F.col('ds')>=CURRENT_D).withColumn(\"cum_pred\",\n",
    "                                   F.sum(reorder_date_calc.yhat).over(cumSumPartition)).filter(F.col(\"extra_items\") <= F.col(\"cum_pred\"))\\\n",
    "                                    .groupby(\"MATNR\",\"AREA\",\"LGORT\").agg(F.min(\"ds\").alias(\"Reorder_dates\"))\\\n",
    "                                       .withColumn('Reorder_dates', F.to_date('Reorder_dates'))\n",
    "\n",
    "final_data = final_data.join(reorder_date_calc,['MATNR','AREA',\"LGORT\"],'left')\n",
    "display(final_data)"
   ]
  },
  {
   "cell_type": "code",
   "execution_count": 0,
   "metadata": {
    "application/vnd.databricks.v1+cell": {
     "cellMetadata": {
      "byteLimit": 2048000,
      "rowLimit": 10000
     },
     "inputWidgets": {},
     "nuid": "c9644aa8-a5a2-4dda-b682-73b032401202",
     "showTitle": false,
     "title": ""
    }
   },
   "outputs": [
    {
     "output_type": "display_data",
     "data": {
      "text/html": [
       "<style scoped>\n",
       "  .table-result-container {\n",
       "    max-height: 300px;\n",
       "    overflow: auto;\n",
       "  }\n",
       "  table, th, td {\n",
       "    border: 1px solid black;\n",
       "    border-collapse: collapse;\n",
       "  }\n",
       "  th, td {\n",
       "    padding: 5px;\n",
       "  }\n",
       "  th {\n",
       "    text-align: left;\n",
       "  }\n",
       "</style><div class='table-result-container'><table class='table-result'><thead style='background-color: white'><tr><th>MATNR</th><th>AREA</th><th>LGORT</th><th>demand_per_day</th><th>MEDIAN_LEADTIME</th><th>Inventory</th><th>Open_POs</th><th>Unit_Price</th><th>Reorder_Point</th><th>Inventory_Exhaust_Date</th><th>Bo_Qty</th><th>Avg_Monthly_Demand</th><th>Predicted_Demand_30_Day</th><th>Reorder_Date</th><th>Quantity_to_Order</th><th>Predicted_CapEx</th><th>Inventory_CapEx</th><th>UnderStock</th><th>OverStock</th><th>UnderStock_percent</th><th>OverStock_percent</th><th>OverStock_Items</th><th>OverStock_CapEx</th><th>Safety_Stock</th><th>Date</th></tr></thead><tbody><tr><td>1166284</td><td>NPI</td><td>1000</td><td>9.28</td><td>44</td><td>510</td><td>0</td><td>20.0</td><td>552</td><td>2023-12-06</td><td>0</td><td>290.06</td><td>430.0</td><td>2023-10-12</td><td>472.0</td><td>9440.0</td><td>10646.42</td><td>true</td><td>false</td><td>7.61</td><td>0.0</td><td>0</td><td>0.0</td><td>143</td><td>2023-10-12</td></tr><tr><td>1223406</td><td>NPI</td><td>1000</td><td>1.2</td><td>144</td><td>41</td><td>251</td><td>16.16</td><td>206</td><td>2023-11-15</td><td>0</td><td>37.19</td><td>80.0</td><td>2023-10-12</td><td>0.0</td><td>0.0</td><td>733.08</td><td>false</td><td>false</td><td>0.0</td><td>0.0</td><td>0</td><td>0.0</td><td>33</td><td>2023-10-12</td></tr><tr><td>1269875</td><td>NPI</td><td>1000</td><td>1.86</td><td>47</td><td>56</td><td>3</td><td>54.0</td><td>112</td><td>2023-11-11</td><td>0</td><td>57.46</td><td>74.0</td><td>2023-10-12</td><td>127.0</td><td>6858.0</td><td>3025.7</td><td>true</td><td>false</td><td>47.32</td><td>0.0</td><td>0</td><td>0.0</td><td>24</td><td>2023-10-12</td></tr><tr><td>1269877</td><td>NPI</td><td>1000</td><td>2.49</td><td>52</td><td>83</td><td>5</td><td>80.0</td><td>160</td><td>2023-11-14</td><td>0</td><td>77.2</td><td>97.0</td><td>2023-10-12</td><td>169.0</td><td>13520.0</td><td>6716.33</td><td>true</td><td>false</td><td>45.0</td><td>0.0</td><td>0</td><td>0.0</td><td>30</td><td>2023-10-12</td></tr><tr><td>1269878</td><td>NPI</td><td>1000</td><td>2.55</td><td>49</td><td>0</td><td>0</td><td>80.0</td><td>156</td><td>2023-10-12</td><td>1</td><td>79.15</td><td>115.0</td><td>2023-10-12</td><td>271.0</td><td>21680.0</td><td>0.0</td><td>true</td><td>false</td><td>100.0</td><td>0.0</td><td>0</td><td>0.0</td><td>30</td><td>2023-10-12</td></tr><tr><td>1415244</td><td>NPI</td><td>1000</td><td>2.88</td><td>182</td><td>32</td><td>122</td><td>341.0</td><td>589</td><td>2023-10-23</td><td>0</td><td>88.96</td><td>117.0</td><td>2023-10-12</td><td>552.0</td><td>188232.0</td><td>12566.4</td><td>true</td><td>false</td><td>73.85</td><td>0.0</td><td>0</td><td>0.0</td><td>64</td><td>2023-10-12</td></tr><tr><td>1415319</td><td>NPI</td><td>1000</td><td>8.51</td><td>176</td><td>189</td><td>157</td><td>49.0</td><td>1686</td><td>2023-11-03</td><td>0</td><td>263.41</td><td>352.0</td><td>2023-10-12</td><td>1692.0</td><td>82908.0</td><td>9792.09</td><td>true</td><td>false</td><td>79.48</td><td>0.0</td><td>0</td><td>0.0</td><td>187</td><td>2023-10-12</td></tr><tr><td>1415603</td><td>NPI</td><td>1000</td><td>10.16</td><td>167</td><td>3526</td><td>1599</td><td>721.0</td><td>1875</td><td>2024-09-23</td><td>0</td><td>314.09</td><td>455.0</td><td>2023-10-12</td><td>0.0</td><td>0.0</td><td>1186447.51</td><td>false</td><td>true</td><td>0.0</td><td>73.33</td><td>1375</td><td>991375.0</td><td>178</td><td>2023-10-12</td></tr><tr><td>1426657</td><td>NPI</td><td>1000</td><td>6.02</td><td>286</td><td>1989</td><td>1268</td><td>643.0</td><td>1863</td><td>2024-09-06</td><td>0</td><td>186.11</td><td>253.0</td><td>2023-10-12</td><td>0.0</td><td>0.0</td><td>518363.32</td><td>false</td><td>false</td><td>0.0</td><td>0.0</td><td>0</td><td>0.0</td><td>140</td><td>2023-10-12</td></tr><tr><td>1426745</td><td>NPI</td><td>1000</td><td>10.16</td><td>181</td><td>3690</td><td>1610</td><td>52.0</td><td>2021</td><td>2024-10-09</td><td>0</td><td>313.83</td><td>471.0</td><td>2023-10-12</td><td>0.0</td><td>0.0</td><td>88630.54</td><td>false</td><td>true</td><td>0.0</td><td>62.25</td><td>1258</td><td>65416.0</td><td>182</td><td>2023-10-12</td></tr></tbody></table></div>"
      ]
     },
     "metadata": {
      "application/vnd.databricks.v1+output": {
       "addedWidgets": {},
       "aggData": [],
       "aggError": "",
       "aggOverflow": false,
       "aggSchema": [],
       "aggSeriesLimitReached": false,
       "aggType": "",
       "arguments": {},
       "columnCustomDisplayInfos": {},
       "data": [
        [
         "1166284",
         "NPI",
         "1000",
         9.28,
         44,
         510,
         0,
         20.0,
         552,
         "2023-12-06",
         0,
         290.06,
         430.0,
         "2023-10-12",
         472.0,
         9440.0,
         10646.42,
         true,
         false,
         7.61,
         0.0,
         0,
         0.0,
         143,
         "2023-10-12"
        ],
        [
         "1223406",
         "NPI",
         "1000",
         1.2,
         144,
         41,
         251,
         16.16,
         206,
         "2023-11-15",
         0,
         37.19,
         80.0,
         "2023-10-12",
         0.0,
         0.0,
         733.08,
         false,
         false,
         0.0,
         0.0,
         0,
         0.0,
         33,
         "2023-10-12"
        ],
        [
         "1269875",
         "NPI",
         "1000",
         1.86,
         47,
         56,
         3,
         54.0,
         112,
         "2023-11-11",
         0,
         57.46,
         74.0,
         "2023-10-12",
         127.0,
         6858.0,
         3025.7,
         true,
         false,
         47.32,
         0.0,
         0,
         0.0,
         24,
         "2023-10-12"
        ],
        [
         "1269877",
         "NPI",
         "1000",
         2.49,
         52,
         83,
         5,
         80.0,
         160,
         "2023-11-14",
         0,
         77.2,
         97.0,
         "2023-10-12",
         169.0,
         13520.0,
         6716.33,
         true,
         false,
         45.0,
         0.0,
         0,
         0.0,
         30,
         "2023-10-12"
        ],
        [
         "1269878",
         "NPI",
         "1000",
         2.55,
         49,
         0,
         0,
         80.0,
         156,
         "2023-10-12",
         1,
         79.15,
         115.0,
         "2023-10-12",
         271.0,
         21680.0,
         0.0,
         true,
         false,
         100.0,
         0.0,
         0,
         0.0,
         30,
         "2023-10-12"
        ],
        [
         "1415244",
         "NPI",
         "1000",
         2.88,
         182,
         32,
         122,
         341.0,
         589,
         "2023-10-23",
         0,
         88.96,
         117.0,
         "2023-10-12",
         552.0,
         188232.0,
         12566.4,
         true,
         false,
         73.85,
         0.0,
         0,
         0.0,
         64,
         "2023-10-12"
        ],
        [
         "1415319",
         "NPI",
         "1000",
         8.51,
         176,
         189,
         157,
         49.0,
         1686,
         "2023-11-03",
         0,
         263.41,
         352.0,
         "2023-10-12",
         1692.0,
         82908.0,
         9792.09,
         true,
         false,
         79.48,
         0.0,
         0,
         0.0,
         187,
         "2023-10-12"
        ],
        [
         "1415603",
         "NPI",
         "1000",
         10.16,
         167,
         3526,
         1599,
         721.0,
         1875,
         "2024-09-23",
         0,
         314.09,
         455.0,
         "2023-10-12",
         0.0,
         0.0,
         1186447.51,
         false,
         true,
         0.0,
         73.33,
         1375,
         991375.0,
         178,
         "2023-10-12"
        ],
        [
         "1426657",
         "NPI",
         "1000",
         6.02,
         286,
         1989,
         1268,
         643.0,
         1863,
         "2024-09-06",
         0,
         186.11,
         253.0,
         "2023-10-12",
         0.0,
         0.0,
         518363.32,
         false,
         false,
         0.0,
         0.0,
         0,
         0.0,
         140,
         "2023-10-12"
        ],
        [
         "1426745",
         "NPI",
         "1000",
         10.16,
         181,
         3690,
         1610,
         52.0,
         2021,
         "2024-10-09",
         0,
         313.83,
         471.0,
         "2023-10-12",
         0.0,
         0.0,
         88630.54,
         false,
         true,
         0.0,
         62.25,
         1258,
         65416.0,
         182,
         "2023-10-12"
        ]
       ],
       "datasetInfos": [
        {
         "name": "final_data",
         "schema": {
          "fields": [
           {
            "metadata": {},
            "name": "MATNR",
            "nullable": true,
            "type": "string"
           },
           {
            "metadata": {},
            "name": "AREA",
            "nullable": true,
            "type": "string"
           },
           {
            "metadata": {},
            "name": "LGORT",
            "nullable": true,
            "type": "string"
           },
           {
            "metadata": {},
            "name": "demand_per_day",
            "nullable": false,
            "type": "double"
           },
           {
            "metadata": {},
            "name": "MEDIAN_LEADTIME",
            "nullable": true,
            "type": "long"
           },
           {
            "metadata": {},
            "name": "Inventory",
            "nullable": true,
            "type": "long"
           },
           {
            "metadata": {},
            "name": "Open_POs",
            "nullable": true,
            "type": "long"
           },
           {
            "metadata": {},
            "name": "Unit_Price",
            "nullable": true,
            "type": "decimal(18,2)"
           },
           {
            "metadata": {},
            "name": "Reorder_Point",
            "nullable": true,
            "type": "long"
           },
           {
            "metadata": {},
            "name": "Inventory_Exhaust_Date",
            "nullable": true,
            "type": "date"
           },
           {
            "metadata": {},
            "name": "Bo_Qty",
            "nullable": true,
            "type": "long"
           },
           {
            "metadata": {},
            "name": "Avg_Monthly_Demand",
            "nullable": true,
            "type": "float"
           },
           {
            "metadata": {},
            "name": "Predicted_Demand_30_Day",
            "nullable": true,
            "type": "double"
           },
           {
            "metadata": {},
            "name": "Reorder_Date",
            "nullable": true,
            "type": "date"
           },
           {
            "metadata": {},
            "name": "Quantity_to_Order",
            "nullable": true,
            "type": "double"
           },
           {
            "metadata": {},
            "name": "Predicted_CapEx",
            "nullable": true,
            "type": "double"
           },
           {
            "metadata": {},
            "name": "Inventory_CapEx",
            "nullable": true,
            "type": "decimal(29,2)"
           },
           {
            "metadata": {},
            "name": "UnderStock",
            "nullable": false,
            "type": "boolean"
           },
           {
            "metadata": {},
            "name": "OverStock",
            "nullable": false,
            "type": "boolean"
           },
           {
            "metadata": {},
            "name": "UnderStock_percent",
            "nullable": false,
            "type": "double"
           },
           {
            "metadata": {},
            "name": "OverStock_percent",
            "nullable": false,
            "type": "double"
           },
           {
            "metadata": {},
            "name": "OverStock_Items",
            "nullable": true,
            "type": "long"
           },
           {
            "metadata": {},
            "name": "OverStock_CapEx",
            "nullable": true,
            "type": "decimal(38,2)"
           },
           {
            "metadata": {},
            "name": "Safety_Stock",
            "nullable": true,
            "type": "long"
           },
           {
            "metadata": {},
            "name": "Date",
            "nullable": false,
            "type": "date"
           }
          ],
          "type": "struct"
         },
         "tableIdentifier": null,
         "typeStr": "pyspark.sql.dataframe.DataFrame"
        }
       ],
       "dbfsResultPath": null,
       "isJsonSchema": true,
       "metadata": {},
       "overflow": false,
       "plotOptions": {
        "customPlotOptions": {},
        "displayType": "table",
        "pivotAggregation": null,
        "pivotColumns": null,
        "xColumns": null,
        "yColumns": null
       },
       "removedWidgets": [],
       "schema": [
        {
         "metadata": "{}",
         "name": "MATNR",
         "type": "\"string\""
        },
        {
         "metadata": "{}",
         "name": "AREA",
         "type": "\"string\""
        },
        {
         "metadata": "{}",
         "name": "LGORT",
         "type": "\"string\""
        },
        {
         "metadata": "{}",
         "name": "demand_per_day",
         "type": "\"double\""
        },
        {
         "metadata": "{}",
         "name": "MEDIAN_LEADTIME",
         "type": "\"long\""
        },
        {
         "metadata": "{}",
         "name": "Inventory",
         "type": "\"long\""
        },
        {
         "metadata": "{}",
         "name": "Open_POs",
         "type": "\"long\""
        },
        {
         "metadata": "{}",
         "name": "Unit_Price",
         "type": "\"decimal(18,2)\""
        },
        {
         "metadata": "{}",
         "name": "Reorder_Point",
         "type": "\"long\""
        },
        {
         "metadata": "{}",
         "name": "Inventory_Exhaust_Date",
         "type": "\"date\""
        },
        {
         "metadata": "{}",
         "name": "Bo_Qty",
         "type": "\"long\""
        },
        {
         "metadata": "{}",
         "name": "Avg_Monthly_Demand",
         "type": "\"float\""
        },
        {
         "metadata": "{}",
         "name": "Predicted_Demand_30_Day",
         "type": "\"double\""
        },
        {
         "metadata": "{}",
         "name": "Reorder_Date",
         "type": "\"date\""
        },
        {
         "metadata": "{}",
         "name": "Quantity_to_Order",
         "type": "\"double\""
        },
        {
         "metadata": "{}",
         "name": "Predicted_CapEx",
         "type": "\"double\""
        },
        {
         "metadata": "{}",
         "name": "Inventory_CapEx",
         "type": "\"decimal(29,2)\""
        },
        {
         "metadata": "{}",
         "name": "UnderStock",
         "type": "\"boolean\""
        },
        {
         "metadata": "{}",
         "name": "OverStock",
         "type": "\"boolean\""
        },
        {
         "metadata": "{}",
         "name": "UnderStock_percent",
         "type": "\"double\""
        },
        {
         "metadata": "{}",
         "name": "OverStock_percent",
         "type": "\"double\""
        },
        {
         "metadata": "{}",
         "name": "OverStock_Items",
         "type": "\"long\""
        },
        {
         "metadata": "{}",
         "name": "OverStock_CapEx",
         "type": "\"decimal(38,2)\""
        },
        {
         "metadata": "{}",
         "name": "Safety_Stock",
         "type": "\"long\""
        },
        {
         "metadata": "{}",
         "name": "Date",
         "type": "\"date\""
        }
       ],
       "type": "table"
      }
     },
     "output_type": "display_data"
    }
   ],
   "source": [
    "final_data = final_data.withColumn(\"incoming\", F.col(\"Inventory\") + F.col(\"Open_POs\"))\\\n",
    "                        .withColumn(\"today\", CURRENT_D)\\\n",
    "                        .withColumn(\"extra_items\", F.when(F.col(\"incoming\") > F.col(\"Reorder_Point\"),\n",
    "                                                          F.col(\"incoming\") - F.col(\"Reorder_Point\")).otherwise(0))\\\n",
    "                        .withColumn(\"extra_days\", F.floor(F.col(\"extra_items\")/F.col(\"demand_per_day\")).cast(T.IntegerType()))\\\n",
    "                        .withColumn(\"Reorder_Date\", F.when((F.col('Reorder_dates').isNull()) | (F.col('extra_items') ==      \n",
    "                                                  0),F.expr(\"date_add(today, extra_days)\"))\\\n",
    "                                    .otherwise(F.col('Reorder_dates')))\\\n",
    "                        .withColumn(\"Quantity_to_Order\", F.col(\"Reorder_Point\") - F.col(\"incoming\") + \n",
    "                                                                F.col(\"Predicted_Demand_30_Day\"))\\\n",
    "                        .withColumn(\"Quantity_to_Order\", when(col('Quantity_to_Order')<0,lit(0))\\\n",
    "                                                               .otherwise(col('Quantity_to_Order')))\\\n",
    "                        .withColumn(\"Predicted_CapEx\", \n",
    "                                    round(F.col(\"Quantity_to_Order\") * F.col(\"Unit_Price\"),2))\\\n",
    "                        .withColumn(\"Inventory_CapEx\", col('INV_CAPEX').cast(T.DecimalType(29, 2)))\\\n",
    "                        .withColumn(\"UnderStock\", F.when((F.col(\"incoming\") <= F.col(\"Reorder_Point\")), True).otherwise(False))\\\n",
    "                        .withColumn(\"OverStock\", F.when((F.col(\"incoming\") > 2*F.col(\"Reorder_Point\")) & \n",
    "                                                        (F.col(\"inventory\") != 0), True).otherwise(False))\\\n",
    "                        .withColumn(\"OverStock\", F.when(col('OverStock').isNotNull(), col('OverStock')).otherwise(False))\\\n",
    "                        .withColumn(\"UnderStock\", F.when(col('UnderStock').isNotNull(), col('UnderStock')).otherwise(False))\\\n",
    "                        .withColumn(\"UnderStock_percent\", F.when((F.col(\"UnderStock\") == 1), \n",
    "                               F.round(((F.col(\"Reorder_Point\")-F.col(\"incoming\"))/F.col(\"Reorder_Point\")) * 100, 2)).otherwise(0))\\\n",
    "                        .withColumn(\"OverStock_percent\", F.when((F.col(\"OverStock\") == 1), \n",
    "                               F.round(((F.col(\"incoming\")-2*F.col(\"Reorder_Point\"))/F.col(\"Reorder_Point\")) * 100, 2)).otherwise(0))\\\n",
    "                        .withColumn(\"OverStock_Items\",F.when(F.col(\"OverStock\") == 1, \n",
    "                                                              F.col(\"incoming\") - 2*F.col(\"Reorder_Point\")).otherwise(0))\\\n",
    "                        .withColumn(\"OverStock_CapEx\", F.col(\"OverStock_Items\") * F.col(\"Unit_Price\"))\\\n",
    "                        .join(safety_stock_cal,[\"MATNR\",\"AREA\",\"LGORT\"],\"inner\")\\\n",
    "                        .withColumn(\"Safety_Stock\",F.col(\"Safety_Stock\").cast(\"Long\")).withColumn(\"Date\", CURRENT_D)\\\n",
    "                        .withColumn(\"Avg_Monthly_Demand\",F.col(\"Avg_Monthly_Demand\").cast(\"float\"))\\\n",
    "                          .fillna(value=0,subset=[\"OverStock_percent\",'UnderStock_percent','Bo_Qty'])\\\n",
    "                        .drop( 'Reorder_dates', \"today\", \"INV_CAPEX\",\"incoming\",\"extra_items\",\"extra_days\")\n",
    "\n",
    "display(final_data) "
   ]
  },
  {
   "cell_type": "code",
   "execution_count": 0,
   "metadata": {
    "application/vnd.databricks.v1+cell": {
     "cellMetadata": {
      "byteLimit": 2048000,
      "rowLimit": 10000
     },
     "inputWidgets": {},
     "nuid": "275c68ee-63ae-4964-b7fa-7dc0af9e447f",
     "showTitle": false,
     "title": ""
    }
   },
   "outputs": [
    {
     "output_type": "display_data",
     "data": {
      "text/html": [
       "<style scoped>\n",
       "  .ansiout {\n",
       "    display: block;\n",
       "    unicode-bidi: embed;\n",
       "    white-space: pre-wrap;\n",
       "    word-wrap: break-word;\n",
       "    word-break: break-all;\n",
       "    font-family: \"Source Code Pro\", \"Menlo\", monospace;;\n",
       "    font-size: 13px;\n",
       "    color: #555;\n",
       "    margin-left: 4px;\n",
       "    line-height: 19px;\n",
       "  }\n",
       "</style>\n",
       "<div class=\"ansiout\"></div>"
      ]
     },
     "metadata": {
      "application/vnd.databricks.v1+output": {
       "addedWidgets": {},
       "arguments": {},
       "data": "<div class=\"ansiout\"></div>",
       "datasetInfos": [],
       "metadata": {},
       "removedWidgets": [],
       "type": "html"
      }
     },
     "output_type": "display_data"
    }
   ],
   "source": [
    "final_data.drop('UnderStock','OverStock','UnderStock_percent','OverStock_percent','OverStock_Items','OverStock_CapEx').write.format(\"delta\").mode(\"overwrite\").saveAsTable('default.Predicted_Order_Quantity')"
   ]
  },
  {
   "cell_type": "code",
   "execution_count": 0,
   "metadata": {
    "application/vnd.databricks.v1+cell": {
     "cellMetadata": {
      "byteLimit": 2048000,
      "rowLimit": 10000
     },
     "inputWidgets": {},
     "nuid": "b39c51c9-5967-424d-8999-b108264f8ba3",
     "showTitle": false,
     "title": ""
    }
   },
   "outputs": [
    {
     "output_type": "display_data",
     "data": {
      "text/html": [
       "<style scoped>\n",
       "  .ansiout {\n",
       "    display: block;\n",
       "    unicode-bidi: embed;\n",
       "    white-space: pre-wrap;\n",
       "    word-wrap: break-word;\n",
       "    word-break: break-all;\n",
       "    font-family: \"Source Code Pro\", \"Menlo\", monospace;;\n",
       "    font-size: 13px;\n",
       "    color: #555;\n",
       "    margin-left: 4px;\n",
       "    line-height: 19px;\n",
       "  }\n",
       "</style>\n",
       "<div class=\"ansiout\"></div>"
      ]
     },
     "metadata": {
      "application/vnd.databricks.v1+output": {
       "addedWidgets": {},
       "arguments": {},
       "data": "<div class=\"ansiout\"></div>",
       "datasetInfos": [],
       "metadata": {},
       "removedWidgets": [],
       "type": "html"
      }
     },
     "output_type": "display_data"
    }
   ],
   "source": [
    "final_data.select('MATNR','AREA','LGORT','UnderStock','OverStock','UnderStock_percent','OverStock_percent','OverStock_Items','OverStock_CapEx').write.format(\"delta\").mode(\"overwrite\").saveAsTable('default.Material_Stock_Details')"
   ]
  },
  {
   "cell_type": "code",
   "execution_count": 0,
   "metadata": {
    "application/vnd.databricks.v1+cell": {
     "cellMetadata": {},
     "inputWidgets": {},
     "nuid": "9146bf57-8ddc-4fc1-af64-86df92c48396",
     "showTitle": false,
     "title": ""
    }
   },
   "outputs": [],
   "source": []
  }
 ],
 "metadata": {
  "application/vnd.databricks.v1+notebook": {
   "dashboards": [],
   "language": "python",
   "notebookMetadata": {
    "mostRecentlyExecutedCommandWithImplicitDF": {
     "commandId": 75932857695577,
     "dataframes": [
      "_sqldf"
     ]
    },
    "pythonIndentUnit": 2
   },
   "notebookName": "JIT_Intelligent_Supply_Chain_Notebook",
   "widgets": {
    "matnr_to_update": {
     "currentValue": "",
     "nuid": "f329f616-fdf9-473e-aa24-d4a1562e8fb4",
     "widgetInfo": {
      "widgetType": "text",
      "defaultValue": "",
      "label": null,
      "name": "matnr_to_update",
      "options": {
       "widgetType": "text",
       "validationRegex": null
      }
     }
    }
   }
  }
 },
 "nbformat": 4,
 "nbformat_minor": 0
}
